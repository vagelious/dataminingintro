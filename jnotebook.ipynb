{
 "cells": [
  {
   "cell_type": "code",
   "execution_count": 19,
   "metadata": {
    "tags": [
     "outputPrepend"
    ]
   },
   "outputs": [
    {
     "output_type": "execute_result",
     "data": {
      "text/plain": "      Customer_ID Age     Sex Marital_Status  Education Income  \\\n0               1  75    male        married    primary  20000   \n1               2  61  female         single  secondary  28000   \n2               3  32    male         single  secondary  34000   \n3               4  62    male        married    primary  31000   \n4               5  66  female        married  secondary  19000   \n...           ...  ..     ...            ...        ...    ...   \n9995         9996  54    male        married    primary  15000   \n9996         9997  73    male       divorced   tertiary  30000   \n9997         9998  38    male        married    primary  46000   \n9998         9999  44  female        married  secondary  23000   \n9999        10000  59    male        married   tertiary  21000   \n\n     Customer_Rating  Persons_in_Household     Occupation  \\\n0          very_good                     3        retired   \n1               good                     1      housemaid   \n2          very_good                     1    blue-collar   \n3          very_good                     3    blue-collar   \n4               good                     3        retired   \n...              ...                   ...            ...   \n9995            good                     3     unemployed   \n9996            good                     1        retired   \n9997            fair                     4    blue-collar   \n9998            poor                     4      housemaid   \n9999            good                     2  self-employed   \n\n                                              Groceries  \n0     citrus fruit,semi-finished bread,margarine,rea...  \n1                          tropical fruit,yogurt,coffee  \n2                                            whole milk  \n3            pip fruit,yogurt,cream cheese,meat spreads  \n4     other vegetables,whole milk,condensed milk,lon...  \n...                                                 ...  \n9995  berries,root vegetables,whole milk,butter,roll...  \n9996  meat,other vegetables,whole milk,beverages,rol...  \n9997                                               soda  \n9998  sausage,citrus fruit,tropical fruit,pip fruit,...  \n9999  soft cheese,cream cheese,rolls/buns,soda,speci...  \n\n[10000 rows x 10 columns]",
      "text/html": "<div>\n<style scoped>\n    .dataframe tbody tr th:only-of-type {\n        vertical-align: middle;\n    }\n\n    .dataframe tbody tr th {\n        vertical-align: top;\n    }\n\n    .dataframe thead th {\n        text-align: right;\n    }\n</style>\n<table border=\"1\" class=\"dataframe\">\n  <thead>\n    <tr style=\"text-align: right;\">\n      <th></th>\n      <th>Customer_ID</th>\n      <th>Age</th>\n      <th>Sex</th>\n      <th>Marital_Status</th>\n      <th>Education</th>\n      <th>Income</th>\n      <th>Customer_Rating</th>\n      <th>Persons_in_Household</th>\n      <th>Occupation</th>\n      <th>Groceries</th>\n    </tr>\n  </thead>\n  <tbody>\n    <tr>\n      <th>0</th>\n      <td>1</td>\n      <td>75</td>\n      <td>male</td>\n      <td>married</td>\n      <td>primary</td>\n      <td>20000</td>\n      <td>very_good</td>\n      <td>3</td>\n      <td>retired</td>\n      <td>citrus fruit,semi-finished bread,margarine,rea...</td>\n    </tr>\n    <tr>\n      <th>1</th>\n      <td>2</td>\n      <td>61</td>\n      <td>female</td>\n      <td>single</td>\n      <td>secondary</td>\n      <td>28000</td>\n      <td>good</td>\n      <td>1</td>\n      <td>housemaid</td>\n      <td>tropical fruit,yogurt,coffee</td>\n    </tr>\n    <tr>\n      <th>2</th>\n      <td>3</td>\n      <td>32</td>\n      <td>male</td>\n      <td>single</td>\n      <td>secondary</td>\n      <td>34000</td>\n      <td>very_good</td>\n      <td>1</td>\n      <td>blue-collar</td>\n      <td>whole milk</td>\n    </tr>\n    <tr>\n      <th>3</th>\n      <td>4</td>\n      <td>62</td>\n      <td>male</td>\n      <td>married</td>\n      <td>primary</td>\n      <td>31000</td>\n      <td>very_good</td>\n      <td>3</td>\n      <td>blue-collar</td>\n      <td>pip fruit,yogurt,cream cheese,meat spreads</td>\n    </tr>\n    <tr>\n      <th>4</th>\n      <td>5</td>\n      <td>66</td>\n      <td>female</td>\n      <td>married</td>\n      <td>secondary</td>\n      <td>19000</td>\n      <td>good</td>\n      <td>3</td>\n      <td>retired</td>\n      <td>other vegetables,whole milk,condensed milk,lon...</td>\n    </tr>\n    <tr>\n      <th>...</th>\n      <td>...</td>\n      <td>...</td>\n      <td>...</td>\n      <td>...</td>\n      <td>...</td>\n      <td>...</td>\n      <td>...</td>\n      <td>...</td>\n      <td>...</td>\n      <td>...</td>\n    </tr>\n    <tr>\n      <th>9995</th>\n      <td>9996</td>\n      <td>54</td>\n      <td>male</td>\n      <td>married</td>\n      <td>primary</td>\n      <td>15000</td>\n      <td>good</td>\n      <td>3</td>\n      <td>unemployed</td>\n      <td>berries,root vegetables,whole milk,butter,roll...</td>\n    </tr>\n    <tr>\n      <th>9996</th>\n      <td>9997</td>\n      <td>73</td>\n      <td>male</td>\n      <td>divorced</td>\n      <td>tertiary</td>\n      <td>30000</td>\n      <td>good</td>\n      <td>1</td>\n      <td>retired</td>\n      <td>meat,other vegetables,whole milk,beverages,rol...</td>\n    </tr>\n    <tr>\n      <th>9997</th>\n      <td>9998</td>\n      <td>38</td>\n      <td>male</td>\n      <td>married</td>\n      <td>primary</td>\n      <td>46000</td>\n      <td>fair</td>\n      <td>4</td>\n      <td>blue-collar</td>\n      <td>soda</td>\n    </tr>\n    <tr>\n      <th>9998</th>\n      <td>9999</td>\n      <td>44</td>\n      <td>female</td>\n      <td>married</td>\n      <td>secondary</td>\n      <td>23000</td>\n      <td>poor</td>\n      <td>4</td>\n      <td>housemaid</td>\n      <td>sausage,citrus fruit,tropical fruit,pip fruit,...</td>\n    </tr>\n    <tr>\n      <th>9999</th>\n      <td>10000</td>\n      <td>59</td>\n      <td>male</td>\n      <td>married</td>\n      <td>tertiary</td>\n      <td>21000</td>\n      <td>good</td>\n      <td>2</td>\n      <td>self-employed</td>\n      <td>soft cheese,cream cheese,rolls/buns,soda,speci...</td>\n    </tr>\n  </tbody>\n</table>\n<p>10000 rows × 10 columns</p>\n</div>"
     },
     "metadata": {},
     "execution_count": 19
    }
   ],
   "source": [
    "# importing pandas package \n",
    "import pandas as pd \n",
    "\t\n",
    "# making data frame from csv file \n",
    "data = pd.read_csv(\"groceries.csv\",sep=\";\") \n",
    "data.mean()\n",
    "data.fillna(data.mean())"
   ]
  },
  {
   "cell_type": "code",
   "execution_count": null,
   "metadata": {},
   "outputs": [],
   "source": []
  }
 ],
 "metadata": {
  "language_info": {
   "codemirror_mode": {
    "name": "ipython",
    "version": 3
   },
   "file_extension": ".py",
   "mimetype": "text/x-python",
   "name": "python",
   "nbconvert_exporter": "python",
   "pygments_lexer": "ipython3",
   "version": "3.7.6-final"
  },
  "orig_nbformat": 2,
  "kernelspec": {
   "name": "python37664bitbaseconda4a96630e980c4a3aa053b3c23798f87a",
   "display_name": "Python 3.7.6 64-bit ('base': conda)"
  }
 },
 "nbformat": 4,
 "nbformat_minor": 2
}
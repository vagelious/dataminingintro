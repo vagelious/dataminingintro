{
 "cells": [
  {
   "cell_type": "markdown",
   "metadata": {},
   "source": [
    "# Big Data Mining, 1st Assignment solution\n",
    "## Vangelis Christou, p2821805\n",
    "\n"
   ]
  },
  {
   "cell_type": "code",
   "execution_count": 10,
   "metadata": {},
   "outputs": [
    {
     "output_type": "execute_result",
     "data": {
      "text/plain": "    Customer_ID Age     Sex Marital_Status  Education Income Customer_Rating  \\\n0             1  75    male        married    primary  20000       very_good   \n1             2  61  female         single  secondary  28000            good   \n2             3  32    male         single  secondary  34000       very_good   \n3             4  62    male        married    primary  31000       very_good   \n4             5  66  female        married  secondary  19000            good   \n5             6  55  female         single  secondary  35000       very_good   \n6             7  23  female        married   tertiary  21000            good   \n7             8  26  female         single  secondary  30000            good   \n8             9  29  female        married  secondary  32000       very_good   \n9            10  57  female        married  secondary  26000            good   \n10           11  55  female        married   tertiary  30000       very_good   \n11           12  57  female        married   tertiary  14000            fair   \n12           13  28    male       divorced   tertiary  30000            fair   \n13           14  40    male        married    primary  13000            fair   \n14           15  53  female       divorced   tertiary   9000       excellent   \n15           16      female        married   tertiary  25000       excellent   \n16           17  68  female        married  secondary              excellent   \n17           18  32    male        married    primary  16000       very_good   \n18           19  33    male         single    primary  18000       very_good   \n19           20  23    male        married   tertiary  23000            good   \n\n    Persons_in_Household     Occupation  \\\n0                      3        retired   \n1                      1      housemaid   \n2                      1    blue-collar   \n3                      3    blue-collar   \n4                      3        retired   \n5                      1     unemployed   \n6                      3      housemaid   \n7                      2    blue-collar   \n8                      3    blue-collar   \n9                      3   entrepreneur   \n10                     2   entrepreneur   \n11                     3    blue-collar   \n12                     1  self-employed   \n13                     3   entrepreneur   \n14                     1   entrepreneur   \n15                     4   entrepreneur   \n16                     3        retired   \n17                     3   entrepreneur   \n18                     1    blue-collar   \n19                     3   entrepreneur   \n\n                                            Groceries  \n0   citrus fruit,semi-finished bread,margarine,rea...  \n1                        tropical fruit,yogurt,coffee  \n2                                          whole milk  \n3          pip fruit,yogurt,cream cheese,meat spreads  \n4   other vegetables,whole milk,condensed milk,lon...  \n5      whole milk,butter,yogurt,rice,abrasive cleaner  \n6                                          rolls/buns  \n7   other vegetables,UHT-milk,rolls/buns,bottled b...  \n8                                       potted plants  \n9                                  whole milk,cereals  \n10  tropical fruit,other vegetables,white bread,bo...  \n11  citrus fruit,tropical fruit,whole milk,butter,...  \n12                                               beef  \n13                        frankfurter,rolls/buns,soda  \n14                             chicken,tropical fruit  \n15      butter,sugar,fruit/vegetable juice,newspapers  \n16                              fruit/vegetable juice  \n17                          packaged fruit/vegetables  \n18                                          chocolate  \n19                                      specialty bar  ",
      "text/html": "<div>\n<style scoped>\n    .dataframe tbody tr th:only-of-type {\n        vertical-align: middle;\n    }\n\n    .dataframe tbody tr th {\n        vertical-align: top;\n    }\n\n    .dataframe thead th {\n        text-align: right;\n    }\n</style>\n<table border=\"1\" class=\"dataframe\">\n  <thead>\n    <tr style=\"text-align: right;\">\n      <th></th>\n      <th>Customer_ID</th>\n      <th>Age</th>\n      <th>Sex</th>\n      <th>Marital_Status</th>\n      <th>Education</th>\n      <th>Income</th>\n      <th>Customer_Rating</th>\n      <th>Persons_in_Household</th>\n      <th>Occupation</th>\n      <th>Groceries</th>\n    </tr>\n  </thead>\n  <tbody>\n    <tr>\n      <th>0</th>\n      <td>1</td>\n      <td>75</td>\n      <td>male</td>\n      <td>married</td>\n      <td>primary</td>\n      <td>20000</td>\n      <td>very_good</td>\n      <td>3</td>\n      <td>retired</td>\n      <td>citrus fruit,semi-finished bread,margarine,rea...</td>\n    </tr>\n    <tr>\n      <th>1</th>\n      <td>2</td>\n      <td>61</td>\n      <td>female</td>\n      <td>single</td>\n      <td>secondary</td>\n      <td>28000</td>\n      <td>good</td>\n      <td>1</td>\n      <td>housemaid</td>\n      <td>tropical fruit,yogurt,coffee</td>\n    </tr>\n    <tr>\n      <th>2</th>\n      <td>3</td>\n      <td>32</td>\n      <td>male</td>\n      <td>single</td>\n      <td>secondary</td>\n      <td>34000</td>\n      <td>very_good</td>\n      <td>1</td>\n      <td>blue-collar</td>\n      <td>whole milk</td>\n    </tr>\n    <tr>\n      <th>3</th>\n      <td>4</td>\n      <td>62</td>\n      <td>male</td>\n      <td>married</td>\n      <td>primary</td>\n      <td>31000</td>\n      <td>very_good</td>\n      <td>3</td>\n      <td>blue-collar</td>\n      <td>pip fruit,yogurt,cream cheese,meat spreads</td>\n    </tr>\n    <tr>\n      <th>4</th>\n      <td>5</td>\n      <td>66</td>\n      <td>female</td>\n      <td>married</td>\n      <td>secondary</td>\n      <td>19000</td>\n      <td>good</td>\n      <td>3</td>\n      <td>retired</td>\n      <td>other vegetables,whole milk,condensed milk,lon...</td>\n    </tr>\n    <tr>\n      <th>5</th>\n      <td>6</td>\n      <td>55</td>\n      <td>female</td>\n      <td>single</td>\n      <td>secondary</td>\n      <td>35000</td>\n      <td>very_good</td>\n      <td>1</td>\n      <td>unemployed</td>\n      <td>whole milk,butter,yogurt,rice,abrasive cleaner</td>\n    </tr>\n    <tr>\n      <th>6</th>\n      <td>7</td>\n      <td>23</td>\n      <td>female</td>\n      <td>married</td>\n      <td>tertiary</td>\n      <td>21000</td>\n      <td>good</td>\n      <td>3</td>\n      <td>housemaid</td>\n      <td>rolls/buns</td>\n    </tr>\n    <tr>\n      <th>7</th>\n      <td>8</td>\n      <td>26</td>\n      <td>female</td>\n      <td>single</td>\n      <td>secondary</td>\n      <td>30000</td>\n      <td>good</td>\n      <td>2</td>\n      <td>blue-collar</td>\n      <td>other vegetables,UHT-milk,rolls/buns,bottled b...</td>\n    </tr>\n    <tr>\n      <th>8</th>\n      <td>9</td>\n      <td>29</td>\n      <td>female</td>\n      <td>married</td>\n      <td>secondary</td>\n      <td>32000</td>\n      <td>very_good</td>\n      <td>3</td>\n      <td>blue-collar</td>\n      <td>potted plants</td>\n    </tr>\n    <tr>\n      <th>9</th>\n      <td>10</td>\n      <td>57</td>\n      <td>female</td>\n      <td>married</td>\n      <td>secondary</td>\n      <td>26000</td>\n      <td>good</td>\n      <td>3</td>\n      <td>entrepreneur</td>\n      <td>whole milk,cereals</td>\n    </tr>\n    <tr>\n      <th>10</th>\n      <td>11</td>\n      <td>55</td>\n      <td>female</td>\n      <td>married</td>\n      <td>tertiary</td>\n      <td>30000</td>\n      <td>very_good</td>\n      <td>2</td>\n      <td>entrepreneur</td>\n      <td>tropical fruit,other vegetables,white bread,bo...</td>\n    </tr>\n    <tr>\n      <th>11</th>\n      <td>12</td>\n      <td>57</td>\n      <td>female</td>\n      <td>married</td>\n      <td>tertiary</td>\n      <td>14000</td>\n      <td>fair</td>\n      <td>3</td>\n      <td>blue-collar</td>\n      <td>citrus fruit,tropical fruit,whole milk,butter,...</td>\n    </tr>\n    <tr>\n      <th>12</th>\n      <td>13</td>\n      <td>28</td>\n      <td>male</td>\n      <td>divorced</td>\n      <td>tertiary</td>\n      <td>30000</td>\n      <td>fair</td>\n      <td>1</td>\n      <td>self-employed</td>\n      <td>beef</td>\n    </tr>\n    <tr>\n      <th>13</th>\n      <td>14</td>\n      <td>40</td>\n      <td>male</td>\n      <td>married</td>\n      <td>primary</td>\n      <td>13000</td>\n      <td>fair</td>\n      <td>3</td>\n      <td>entrepreneur</td>\n      <td>frankfurter,rolls/buns,soda</td>\n    </tr>\n    <tr>\n      <th>14</th>\n      <td>15</td>\n      <td>53</td>\n      <td>female</td>\n      <td>divorced</td>\n      <td>tertiary</td>\n      <td>9000</td>\n      <td>excellent</td>\n      <td>1</td>\n      <td>entrepreneur</td>\n      <td>chicken,tropical fruit</td>\n    </tr>\n    <tr>\n      <th>15</th>\n      <td>16</td>\n      <td></td>\n      <td>female</td>\n      <td>married</td>\n      <td>tertiary</td>\n      <td>25000</td>\n      <td>excellent</td>\n      <td>4</td>\n      <td>entrepreneur</td>\n      <td>butter,sugar,fruit/vegetable juice,newspapers</td>\n    </tr>\n    <tr>\n      <th>16</th>\n      <td>17</td>\n      <td>68</td>\n      <td>female</td>\n      <td>married</td>\n      <td>secondary</td>\n      <td></td>\n      <td>excellent</td>\n      <td>3</td>\n      <td>retired</td>\n      <td>fruit/vegetable juice</td>\n    </tr>\n    <tr>\n      <th>17</th>\n      <td>18</td>\n      <td>32</td>\n      <td>male</td>\n      <td>married</td>\n      <td>primary</td>\n      <td>16000</td>\n      <td>very_good</td>\n      <td>3</td>\n      <td>entrepreneur</td>\n      <td>packaged fruit/vegetables</td>\n    </tr>\n    <tr>\n      <th>18</th>\n      <td>19</td>\n      <td>33</td>\n      <td>male</td>\n      <td>single</td>\n      <td>primary</td>\n      <td>18000</td>\n      <td>very_good</td>\n      <td>1</td>\n      <td>blue-collar</td>\n      <td>chocolate</td>\n    </tr>\n    <tr>\n      <th>19</th>\n      <td>20</td>\n      <td>23</td>\n      <td>male</td>\n      <td>married</td>\n      <td>tertiary</td>\n      <td>23000</td>\n      <td>good</td>\n      <td>3</td>\n      <td>entrepreneur</td>\n      <td>specialty bar</td>\n    </tr>\n  </tbody>\n</table>\n</div>"
     },
     "metadata": {},
     "execution_count": 10
    }
   ],
   "source": [
    "#read\n",
    "import pandas as pd \n",
    "df = pd.read_csv(\"groceries.csv\",sep=\";\") \n",
    "\n",
    "#preview data\n",
    "df.head(20)\n"
   ]
  },
  {
   "cell_type": "code",
   "execution_count": 11,
   "metadata": {},
   "outputs": [
    {
     "output_type": "execute_result",
     "data": {
      "text/plain": "Customer_ID              int64\nAge                     object\nSex                     object\nMarital_Status          object\nEducation               object\nIncome                  object\nCustomer_Rating         object\nPersons_in_Household     int64\nOccupation              object\nGroceries               object\ndtype: object"
     },
     "metadata": {},
     "execution_count": 11
    }
   ],
   "source": [
    "#view default  data types\n",
    "df.dtypes"
   ]
  },
  {
   "cell_type": "code",
   "execution_count": 12,
   "metadata": {},
   "outputs": [
    {
     "output_type": "error",
     "ename": "NameError",
     "evalue": "name 'np' is not defined",
     "traceback": [
      "\u001b[1;31m---------------------------------------------------------------------------\u001b[0m",
      "\u001b[1;31mNameError\u001b[0m                                 Traceback (most recent call last)",
      "\u001b[1;32m<ipython-input-12-ac3c669de0bc>\u001b[0m in \u001b[0;36m<module>\u001b[1;34m\u001b[0m\n\u001b[0;32m      1\u001b[0m \u001b[1;31m#replace ' ' values with NaN\u001b[0m\u001b[1;33m\u001b[0m\u001b[1;33m\u001b[0m\u001b[1;33m\u001b[0m\u001b[0m\n\u001b[1;32m----> 2\u001b[1;33m \u001b[0mdf\u001b[0m \u001b[1;33m=\u001b[0m \u001b[0mdf\u001b[0m\u001b[1;33m.\u001b[0m\u001b[0mreplace\u001b[0m\u001b[1;33m(\u001b[0m\u001b[1;34mr'^\\s*$'\u001b[0m\u001b[1;33m,\u001b[0m \u001b[0mnp\u001b[0m\u001b[1;33m.\u001b[0m\u001b[0mnan\u001b[0m\u001b[1;33m,\u001b[0m \u001b[0mregex\u001b[0m\u001b[1;33m=\u001b[0m\u001b[1;32mTrue\u001b[0m\u001b[1;33m)\u001b[0m\u001b[1;33m\u001b[0m\u001b[1;33m\u001b[0m\u001b[0m\n\u001b[0m\u001b[0;32m      3\u001b[0m \u001b[1;33m\u001b[0m\u001b[0m\n\u001b[0;32m      4\u001b[0m \u001b[1;31m#set proper data types\u001b[0m\u001b[1;33m\u001b[0m\u001b[1;33m\u001b[0m\u001b[1;33m\u001b[0m\u001b[0m\n\u001b[0;32m      5\u001b[0m \u001b[1;31m#numeric\u001b[0m\u001b[1;33m\u001b[0m\u001b[1;33m\u001b[0m\u001b[1;33m\u001b[0m\u001b[0m\n",
      "\u001b[1;31mNameError\u001b[0m: name 'np' is not defined"
     ]
    }
   ],
   "source": [
    "#replace ' ' values with NaN\n",
    "df = df.replace(r'^\\s*$', np.nan, regex=True)\n",
    "\n",
    "#set proper data types\n",
    "#numeric\n",
    "df[\"Age\"] = pd.to_numeric(df[\"Age\"],downcast='integer')\n",
    "df[\"Income\"] = pd.to_numeric(df[\"Income\"],downcast='integer')\n",
    "df[\"Persons_in_Household\"] = pd.to_numeric(df[\"Persons_in_Household\"])\n",
    "\n",
    "#nominal\n",
    "df[\"Sex\"] = df[\"Sex\"].astype('category')\n",
    "df[\"Marital_Status\"] = df[\"Marital_Status\"].astype('category')\n",
    "df[\"Occupation\"] = df[\"Occupation\"].astype('category')\n",
    "\n",
    "#ordinal\n",
    "cRatings = pd.Categorical(df[\"Customer_Rating\"], categories=[\"poor\", \"fair\", \"good\", \"very_good\", \"excellent\"], ordered=True)\n",
    "df.Customer_Rating = cRatings\n",
    "cEducation = pd.Categorical(df[\"Education\"], categories=[\"primary\", \"secondary\", \"tertiary\"], ordered=True)\n",
    "df.Education = cEducation\n",
    "\n",
    "\n",
    "\n",
    "#fill Nan values with mean\n",
    "df.fillna(df.mean().astype(int), inplace=True)\n",
    "df[\"Age\"] = df[\"Age\"].astype(np.int64) \n",
    "df[\"Income\"] = df[\"Income\"].astype(np.int64) \n",
    "\n",
    "# convert Groceries to set of values\n",
    "df.Groceries= df.Groceries.str.split(\",\") \n",
    "\n",
    "df.dtypes\n",
    "\n",
    "\n",
    "\n"
   ]
  },
  {
   "cell_type": "code",
   "execution_count": 13,
   "metadata": {},
   "outputs": [
    {
     "output_type": "execute_result",
     "data": {
      "text/plain": "    Customer_ID Age     Sex Marital_Status  Education Income Customer_Rating  \\\n0             1  75    male        married    primary  20000       very_good   \n1             2  61  female         single  secondary  28000            good   \n2             3  32    male         single  secondary  34000       very_good   \n3             4  62    male        married    primary  31000       very_good   \n4             5  66  female        married  secondary  19000            good   \n5             6  55  female         single  secondary  35000       very_good   \n6             7  23  female        married   tertiary  21000            good   \n7             8  26  female         single  secondary  30000            good   \n8             9  29  female        married  secondary  32000       very_good   \n9            10  57  female        married  secondary  26000            good   \n10           11  55  female        married   tertiary  30000       very_good   \n11           12  57  female        married   tertiary  14000            fair   \n12           13  28    male       divorced   tertiary  30000            fair   \n13           14  40    male        married    primary  13000            fair   \n14           15  53  female       divorced   tertiary   9000       excellent   \n15           16      female        married   tertiary  25000       excellent   \n16           17  68  female        married  secondary              excellent   \n17           18  32    male        married    primary  16000       very_good   \n18           19  33    male         single    primary  18000       very_good   \n19           20  23    male        married   tertiary  23000            good   \n\n    Persons_in_Household     Occupation  \\\n0                      3        retired   \n1                      1      housemaid   \n2                      1    blue-collar   \n3                      3    blue-collar   \n4                      3        retired   \n5                      1     unemployed   \n6                      3      housemaid   \n7                      2    blue-collar   \n8                      3    blue-collar   \n9                      3   entrepreneur   \n10                     2   entrepreneur   \n11                     3    blue-collar   \n12                     1  self-employed   \n13                     3   entrepreneur   \n14                     1   entrepreneur   \n15                     4   entrepreneur   \n16                     3        retired   \n17                     3   entrepreneur   \n18                     1    blue-collar   \n19                     3   entrepreneur   \n\n                                            Groceries  \n0   citrus fruit,semi-finished bread,margarine,rea...  \n1                        tropical fruit,yogurt,coffee  \n2                                          whole milk  \n3          pip fruit,yogurt,cream cheese,meat spreads  \n4   other vegetables,whole milk,condensed milk,lon...  \n5      whole milk,butter,yogurt,rice,abrasive cleaner  \n6                                          rolls/buns  \n7   other vegetables,UHT-milk,rolls/buns,bottled b...  \n8                                       potted plants  \n9                                  whole milk,cereals  \n10  tropical fruit,other vegetables,white bread,bo...  \n11  citrus fruit,tropical fruit,whole milk,butter,...  \n12                                               beef  \n13                        frankfurter,rolls/buns,soda  \n14                             chicken,tropical fruit  \n15      butter,sugar,fruit/vegetable juice,newspapers  \n16                              fruit/vegetable juice  \n17                          packaged fruit/vegetables  \n18                                          chocolate  \n19                                      specialty bar  ",
      "text/html": "<div>\n<style scoped>\n    .dataframe tbody tr th:only-of-type {\n        vertical-align: middle;\n    }\n\n    .dataframe tbody tr th {\n        vertical-align: top;\n    }\n\n    .dataframe thead th {\n        text-align: right;\n    }\n</style>\n<table border=\"1\" class=\"dataframe\">\n  <thead>\n    <tr style=\"text-align: right;\">\n      <th></th>\n      <th>Customer_ID</th>\n      <th>Age</th>\n      <th>Sex</th>\n      <th>Marital_Status</th>\n      <th>Education</th>\n      <th>Income</th>\n      <th>Customer_Rating</th>\n      <th>Persons_in_Household</th>\n      <th>Occupation</th>\n      <th>Groceries</th>\n    </tr>\n  </thead>\n  <tbody>\n    <tr>\n      <th>0</th>\n      <td>1</td>\n      <td>75</td>\n      <td>male</td>\n      <td>married</td>\n      <td>primary</td>\n      <td>20000</td>\n      <td>very_good</td>\n      <td>3</td>\n      <td>retired</td>\n      <td>citrus fruit,semi-finished bread,margarine,rea...</td>\n    </tr>\n    <tr>\n      <th>1</th>\n      <td>2</td>\n      <td>61</td>\n      <td>female</td>\n      <td>single</td>\n      <td>secondary</td>\n      <td>28000</td>\n      <td>good</td>\n      <td>1</td>\n      <td>housemaid</td>\n      <td>tropical fruit,yogurt,coffee</td>\n    </tr>\n    <tr>\n      <th>2</th>\n      <td>3</td>\n      <td>32</td>\n      <td>male</td>\n      <td>single</td>\n      <td>secondary</td>\n      <td>34000</td>\n      <td>very_good</td>\n      <td>1</td>\n      <td>blue-collar</td>\n      <td>whole milk</td>\n    </tr>\n    <tr>\n      <th>3</th>\n      <td>4</td>\n      <td>62</td>\n      <td>male</td>\n      <td>married</td>\n      <td>primary</td>\n      <td>31000</td>\n      <td>very_good</td>\n      <td>3</td>\n      <td>blue-collar</td>\n      <td>pip fruit,yogurt,cream cheese,meat spreads</td>\n    </tr>\n    <tr>\n      <th>4</th>\n      <td>5</td>\n      <td>66</td>\n      <td>female</td>\n      <td>married</td>\n      <td>secondary</td>\n      <td>19000</td>\n      <td>good</td>\n      <td>3</td>\n      <td>retired</td>\n      <td>other vegetables,whole milk,condensed milk,lon...</td>\n    </tr>\n    <tr>\n      <th>5</th>\n      <td>6</td>\n      <td>55</td>\n      <td>female</td>\n      <td>single</td>\n      <td>secondary</td>\n      <td>35000</td>\n      <td>very_good</td>\n      <td>1</td>\n      <td>unemployed</td>\n      <td>whole milk,butter,yogurt,rice,abrasive cleaner</td>\n    </tr>\n    <tr>\n      <th>6</th>\n      <td>7</td>\n      <td>23</td>\n      <td>female</td>\n      <td>married</td>\n      <td>tertiary</td>\n      <td>21000</td>\n      <td>good</td>\n      <td>3</td>\n      <td>housemaid</td>\n      <td>rolls/buns</td>\n    </tr>\n    <tr>\n      <th>7</th>\n      <td>8</td>\n      <td>26</td>\n      <td>female</td>\n      <td>single</td>\n      <td>secondary</td>\n      <td>30000</td>\n      <td>good</td>\n      <td>2</td>\n      <td>blue-collar</td>\n      <td>other vegetables,UHT-milk,rolls/buns,bottled b...</td>\n    </tr>\n    <tr>\n      <th>8</th>\n      <td>9</td>\n      <td>29</td>\n      <td>female</td>\n      <td>married</td>\n      <td>secondary</td>\n      <td>32000</td>\n      <td>very_good</td>\n      <td>3</td>\n      <td>blue-collar</td>\n      <td>potted plants</td>\n    </tr>\n    <tr>\n      <th>9</th>\n      <td>10</td>\n      <td>57</td>\n      <td>female</td>\n      <td>married</td>\n      <td>secondary</td>\n      <td>26000</td>\n      <td>good</td>\n      <td>3</td>\n      <td>entrepreneur</td>\n      <td>whole milk,cereals</td>\n    </tr>\n    <tr>\n      <th>10</th>\n      <td>11</td>\n      <td>55</td>\n      <td>female</td>\n      <td>married</td>\n      <td>tertiary</td>\n      <td>30000</td>\n      <td>very_good</td>\n      <td>2</td>\n      <td>entrepreneur</td>\n      <td>tropical fruit,other vegetables,white bread,bo...</td>\n    </tr>\n    <tr>\n      <th>11</th>\n      <td>12</td>\n      <td>57</td>\n      <td>female</td>\n      <td>married</td>\n      <td>tertiary</td>\n      <td>14000</td>\n      <td>fair</td>\n      <td>3</td>\n      <td>blue-collar</td>\n      <td>citrus fruit,tropical fruit,whole milk,butter,...</td>\n    </tr>\n    <tr>\n      <th>12</th>\n      <td>13</td>\n      <td>28</td>\n      <td>male</td>\n      <td>divorced</td>\n      <td>tertiary</td>\n      <td>30000</td>\n      <td>fair</td>\n      <td>1</td>\n      <td>self-employed</td>\n      <td>beef</td>\n    </tr>\n    <tr>\n      <th>13</th>\n      <td>14</td>\n      <td>40</td>\n      <td>male</td>\n      <td>married</td>\n      <td>primary</td>\n      <td>13000</td>\n      <td>fair</td>\n      <td>3</td>\n      <td>entrepreneur</td>\n      <td>frankfurter,rolls/buns,soda</td>\n    </tr>\n    <tr>\n      <th>14</th>\n      <td>15</td>\n      <td>53</td>\n      <td>female</td>\n      <td>divorced</td>\n      <td>tertiary</td>\n      <td>9000</td>\n      <td>excellent</td>\n      <td>1</td>\n      <td>entrepreneur</td>\n      <td>chicken,tropical fruit</td>\n    </tr>\n    <tr>\n      <th>15</th>\n      <td>16</td>\n      <td></td>\n      <td>female</td>\n      <td>married</td>\n      <td>tertiary</td>\n      <td>25000</td>\n      <td>excellent</td>\n      <td>4</td>\n      <td>entrepreneur</td>\n      <td>butter,sugar,fruit/vegetable juice,newspapers</td>\n    </tr>\n    <tr>\n      <th>16</th>\n      <td>17</td>\n      <td>68</td>\n      <td>female</td>\n      <td>married</td>\n      <td>secondary</td>\n      <td></td>\n      <td>excellent</td>\n      <td>3</td>\n      <td>retired</td>\n      <td>fruit/vegetable juice</td>\n    </tr>\n    <tr>\n      <th>17</th>\n      <td>18</td>\n      <td>32</td>\n      <td>male</td>\n      <td>married</td>\n      <td>primary</td>\n      <td>16000</td>\n      <td>very_good</td>\n      <td>3</td>\n      <td>entrepreneur</td>\n      <td>packaged fruit/vegetables</td>\n    </tr>\n    <tr>\n      <th>18</th>\n      <td>19</td>\n      <td>33</td>\n      <td>male</td>\n      <td>single</td>\n      <td>primary</td>\n      <td>18000</td>\n      <td>very_good</td>\n      <td>1</td>\n      <td>blue-collar</td>\n      <td>chocolate</td>\n    </tr>\n    <tr>\n      <th>19</th>\n      <td>20</td>\n      <td>23</td>\n      <td>male</td>\n      <td>married</td>\n      <td>tertiary</td>\n      <td>23000</td>\n      <td>good</td>\n      <td>3</td>\n      <td>entrepreneur</td>\n      <td>specialty bar</td>\n    </tr>\n  </tbody>\n</table>\n</div>"
     },
     "metadata": {},
     "execution_count": 13
    }
   ],
   "source": [
    "\n",
    "df.head(20)"
   ]
  },
  {
   "cell_type": "code",
   "execution_count": 14,
   "metadata": {},
   "outputs": [],
   "source": [
    "import itertools\n",
    "import time\n",
    "def jaccard_sim(list1, list2):\n",
    "    intersection = len(list(set(list1).intersection(list2)))\n",
    "    union = (len(list1) + len(list2)) - intersection\n",
    "    return round(float(intersection) / union, 2)\n",
    "\n",
    "def numeric_sim(num1, num2, maxvalue,minvalue):\n",
    "    return round(abs(num1-num2) /maxvalue-minvalue, 2)\n",
    "\n",
    "def nominal_sim(nom1,nom2)\n",
    "    return nom1 == nom2\n",
    "\n",
    "\n",
    "def pairwiseJaccard(cust):\n",
    "    sim={}\n",
    "    print(\"Computing Jaccard pair wise similarities\")\n",
    "    start_time = time.time()\n",
    "    for pair in itertools.combinations(cust, r=2):\n",
    "        s=jaccard_sim(cust[pair[0]],cust[pair[1]])\n",
    "        sim[tuple([pair[0],pair[1]])]=s\n",
    "    \n",
    "    end_time = time.time()\n",
    "    print(\"Jaccard Success after: \" ,end_time-start_time)\n",
    "    return sim\n",
    "\n",
    "def pairwiseNominal(cust):\n",
    "    sim={}\n",
    "    print(\"Computing pair wise similarities\")\n",
    "    start_time = time.time()\n",
    "    for pair in itertools.combinations(cust, r=2):\n",
    "        s=jaccard_sim(cust[pair[0]],cust[pair[1]])\n",
    "        sim[tuple([pair[0],pair[1]])]=s\n",
    "    \n",
    "    end_time = time.time()\n",
    "    print(\"Jaccard Success after: \" ,end_time-start_time)\n",
    "    return sim\n",
    "\n",
    "def pairwiseOrdinal(cust):\n",
    "    sim={}\n",
    "    print(\"Computing pair wise similarities\")\n",
    "    start_time = time.time()\n",
    "    for pair in itertools.combinations(cust, r=2):\n",
    "        s=jaccard_sim(cust[pair[0]],cust[pair[1]])\n",
    "        sim[tuple([pair[0],pair[1]])]=s\n",
    "    \n",
    "    end_time = time.time()\n",
    "    print(\"Jaccard Success after: \" ,end_time-start_time)\n",
    "    return sim\n",
    "\n",
    "\n",
    "def pairwiseNumeric(cust, maxvalue,minvalue):\n",
    "    sim={}\n",
    "    print(\"Computing pair wise similarities\")\n",
    "    start_time = time.time()\n",
    "    for pair in itertools.combinations(cust, r=2):\n",
    "        s=jaccard_sim(cust[pair[0]],cust[pair[1]])\n",
    "        sim[tuple([pair[0],pair[1]])]=s\n",
    "    \n",
    "    end_time = time.time()\n",
    "    print(\"Jaccard Success after: \" ,end_time-start_time)\n",
    "    return sim\n"
   ]
  },
  {
   "cell_type": "code",
   "execution_count": 15,
   "metadata": {
    "tags": [
     "outputPrepend",
     "outputPrepend",
     "outputPrepend",
     "outputPrepend",
     "outputPrepend",
     "outputPrepend",
     "outputPrepend",
     "outputPrepend",
     "outputPrepend",
     "outputPrepend",
     "outputPrepend",
     "outputPrepend",
     "outputPrepend",
     "outputPrepend",
     "outputPrepend",
     "outputPrepend",
     "outputPrepend",
     "outputPrepend",
     "outputPrepend",
     "outputPrepend",
     "outputPrepend",
     "outputPrepend",
     "outputPrepend",
     "outputPrepend",
     "outputPrepend",
     "outputPrepend",
     "outputPrepend",
     "outputPrepend",
     "outputPrepend",
     "outputPrepend",
     "outputPrepend",
     "outputPrepend",
     "outputPrepend",
     "outputPrepend",
     "outputPrepend",
     "outputPrepend",
     "outputPrepend",
     "outputPrepend",
     "outputPrepend",
     "outputPrepend",
     "outputPrepend",
     "outputPrepend",
     "outputPrepend",
     "outputPrepend",
     "outputPrepend",
     "outputPrepend",
     "outputPrepend",
     "outputPrepend",
     "outputPrepend",
     "outputPrepend",
     "outputPrepend",
     "outputPrepend",
     "outputPrepend",
     "outputPrepend",
     "outputPrepend",
     "outputPrepend",
     "outputPrepend",
     "outputPrepend",
     "outputPrepend",
     "outputPrepend",
     "outputPrepend",
     "outputPrepend",
     "outputPrepend",
     "outputPrepend",
     "outputPrepend",
     "outputPrepend",
     "outputPrepend",
     "outputPrepend",
     "outputPrepend",
     "outputPrepend",
     "outputPrepend",
     "outputPrepend",
     "outputPrepend",
     "outputPrepend",
     "outputPrepend",
     "outputPrepend",
     "outputPrepend",
     "outputPrepend",
     "outputPrepend",
     "outputPrepend",
     "outputPrepend",
     "outputPrepend",
     "outputPrepend",
     "outputPrepend",
     "outputPrepend",
     "outputPrepend",
     "outputPrepend",
     "outputPrepend",
     "outputPrepend",
     "outputPrepend",
     "outputPrepend",
     "outputPrepend",
     "outputPrepend",
     "outputPrepend",
     "outputPrepend",
     "outputPrepend",
     "outputPrepend",
     "outputPrepend",
     "outputPrepend",
     "outputPrepend",
     "outputPrepend",
     "outputPrepend",
     "outputPrepend",
     "outputPrepend",
     "outputPrepend",
     "outputPrepend",
     "outputPrepend",
     "outputPrepend",
     "outputPrepend",
     "outputPrepend",
     "outputPrepend",
     "outputPrepend",
     "outputPrepend",
     "outputPrepend",
     "outputPrepend",
     "outputPrepend",
     "outputPrepend",
     "outputPrepend",
     "outputPrepend",
     "outputPrepend",
     "outputPrepend",
     "outputPrepend",
     "outputPrepend",
     "outputPrepend"
    ]
   },
   "outputs": [],
   "source": [
    "groceries_d = dict(zip(df.Customer_ID, df.Groceries))\n",
    "\n",
    "short_groceries_d = dict(list(cust_dict.items())[0:10])\n",
    "\n"
   ]
  },
  {
   "cell_type": "code",
   "execution_count": 16,
   "metadata": {},
   "outputs": [
    {
     "output_type": "stream",
     "name": "stdout",
     "text": "Computing pair wise similarities\nSuccess after:  428.4704306125641\n"
    }
   ],
   "source": [
    "simGroceries = pairwiseJaccard(short_groceries_d)\n",
    "simGroceries = pairwiseJaccard(cust_dict)"
   ]
  },
  {
   "cell_type": "code",
   "execution_count": 17,
   "metadata": {},
   "outputs": [],
   "source": [
    "import operator\n",
    "\n",
    "def GetSimilarCustomers(customerID,head, sim):\n",
    "    filtered_dict = {k:v for (k,v) in sim.items() if k[0] == customerID}\n",
    "    sorted_d = dict(sorted(filtered_dict.items(), key=operator.itemgetter(1),reverse=True))\n",
    "    return dict(list(sorted_d.items())[0:head])\n"
   ]
  },
  {
   "cell_type": "code",
   "execution_count": 18,
   "metadata": {},
   "outputs": [
    {
     "output_type": "stream",
     "name": "stdout",
     "text": "{(73, 5745): 0.19, (73, 162): 0.18, (73, 168): 0.18, (73, 604): 0.18, (73, 943): 0.18, (73, 1471): 0.18, (73, 2875): 0.18, (73, 3257): 0.18, (73, 4777): 0.18, (73, 5259): 0.18}\n----\n\n{(563, 652): 0.82, (563, 768): 0.82, (563, 1010): 0.82, (563, 1236): 0.82, (563, 1562): 0.82, (563, 1629): 0.82, (563, 1652): 0.82, (563, 1787): 0.82, (563, 1819): 0.82, (563, 1830): 0.82}\n----\n\n{(1603, 6379): 0.39, (1603, 7149): 0.39, (1603, 1628): 0.38, (1603, 2736): 0.38, (1603, 3379): 0.38, (1603, 6101): 0.38, (1603, 6185): 0.38, (1603, 3635): 0.37, (1603, 8156): 0.37, (1603, 3753): 0.36}\n----\n\n{(2200, 6222): 0.71, (2200, 2367): 0.56, (2200, 9530): 0.56, (2200, 2711): 0.55, (2200, 3432): 0.55, (2200, 4426): 0.55, (2200, 5213): 0.55, (2200, 2401): 0.53, (2200, 2714): 0.53, (2200, 2769): 0.53}\n----\n\n{(3703, 5286): 0.21, (3703, 6434): 0.21, (3703, 4904): 0.2, (3703, 5558): 0.2, (3703, 6599): 0.2, (3703, 8163): 0.2, (3703, 3714): 0.19, (3703, 3761): 0.19, (3703, 3893): 0.19, (3703, 4132): 0.19}\n----\n\n{(4263, 5286): 0.24, (4263, 5433): 0.24, (4263, 6101): 0.24, (4263, 6185): 0.24, (4263, 6434): 0.24, (4263, 4466): 0.23, (4263, 5043): 0.23, (4263, 8156): 0.23, (4263, 9426): 0.23, (4263, 5258): 0.22}\n----\n\n{(5300, 6434): 0.17, (5300, 7456): 0.17, (5300, 8182): 0.17, (5300, 9426): 0.17, (5300, 5436): 0.16, (5300, 5558): 0.16, (5300, 5589): 0.16, (5300, 5832): 0.16, (5300, 6018): 0.16, (5300, 6133): 0.16}\n----\n\n{(6129, 6873): 0.38, (6129, 7149): 0.38, (6129, 7256): 0.38, (6129, 9635): 0.38, (6129, 7991): 0.37, (6129, 6364): 0.36, (6129, 6627): 0.36, (6129, 7586): 0.36, (6129, 7693): 0.36, (6129, 9205): 0.36}\n----\n\n{(7800, 7802): 0.67, (7800, 7831): 0.67, (7800, 7917): 0.67, (7800, 7969): 0.67, (7800, 8113): 0.67, (7800, 8172): 0.67, (7800, 8218): 0.67, (7800, 8269): 0.67, (7800, 8363): 0.67, (7800, 8393): 0.67}\n----\n\n{(8555, 9775): 0.43, (8555, 9122): 0.38, (8555, 8810): 0.37, (8555, 8690): 0.34, (8555, 8841): 0.34, (8555, 9149): 0.34, (8555, 8767): 0.33, (8555, 8772): 0.33, (8555, 8929): 0.33, (8555, 9006): 0.33}\n----\n\n"
    }
   ],
   "source": [
    "customerids = [73, 563, 1603, 2200, 3703, 4263, 5300, 6129, 7800, 8555]\n",
    "for i in customerids: \n",
    "    print(GetSimilarCustomers(i,10,sim))\n",
    "    print(\"----\\n\")\n"
   ]
  },
  {
   "cell_type": "code",
   "execution_count": null,
   "metadata": {},
   "outputs": [],
   "source": []
  }
 ],
 "metadata": {
  "language_info": {
   "codemirror_mode": {
    "name": "ipython",
    "version": 3
   },
   "file_extension": ".py",
   "mimetype": "text/x-python",
   "name": "python",
   "nbconvert_exporter": "python",
   "pygments_lexer": "ipython3",
   "version": "3.7.3-final"
  },
  "orig_nbformat": 2,
  "kernelspec": {
   "name": "python3",
   "display_name": "Python 3"
  }
 },
 "nbformat": 4,
 "nbformat_minor": 2
}
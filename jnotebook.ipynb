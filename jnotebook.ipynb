{
 "cells": [
  {
   "cell_type": "markdown",
   "metadata": {},
   "source": [
    "# Big Data Mining, 1st Assignment solution\n",
    "## Vangelis Christou, p2821805\n",
    "\n"
   ]
  },
  {
   "cell_type": "code",
   "execution_count": 43,
   "metadata": {},
   "outputs": [
    {
     "output_type": "execute_result",
     "data": {
      "text/plain": "    Customer_ID Age     Sex Marital_Status  Education Income Customer_Rating  \\\n0             1  75    male        married    primary  20000       very_good   \n1             2  61  female         single  secondary  28000            good   \n2             3  32    male         single  secondary  34000       very_good   \n3             4  62    male        married    primary  31000       very_good   \n4             5  66  female        married  secondary  19000            good   \n5             6  55  female         single  secondary  35000       very_good   \n6             7  23  female        married   tertiary  21000            good   \n7             8  26  female         single  secondary  30000            good   \n8             9  29  female        married  secondary  32000       very_good   \n9            10  57  female        married  secondary  26000            good   \n10           11  55  female        married   tertiary  30000       very_good   \n11           12  57  female        married   tertiary  14000            fair   \n12           13  28    male       divorced   tertiary  30000            fair   \n13           14  40    male        married    primary  13000            fair   \n14           15  53  female       divorced   tertiary   9000       excellent   \n15           16      female        married   tertiary  25000       excellent   \n16           17  68  female        married  secondary              excellent   \n17           18  32    male        married    primary  16000       very_good   \n18           19  33    male         single    primary  18000       very_good   \n19           20  23    male        married   tertiary  23000            good   \n\n    Persons_in_Household     Occupation  \\\n0                      3        retired   \n1                      1      housemaid   \n2                      1    blue-collar   \n3                      3    blue-collar   \n4                      3        retired   \n5                      1     unemployed   \n6                      3      housemaid   \n7                      2    blue-collar   \n8                      3    blue-collar   \n9                      3   entrepreneur   \n10                     2   entrepreneur   \n11                     3    blue-collar   \n12                     1  self-employed   \n13                     3   entrepreneur   \n14                     1   entrepreneur   \n15                     4   entrepreneur   \n16                     3        retired   \n17                     3   entrepreneur   \n18                     1    blue-collar   \n19                     3   entrepreneur   \n\n                                            Groceries  \n0   citrus fruit,semi-finished bread,margarine,rea...  \n1                        tropical fruit,yogurt,coffee  \n2                                          whole milk  \n3          pip fruit,yogurt,cream cheese,meat spreads  \n4   other vegetables,whole milk,condensed milk,lon...  \n5      whole milk,butter,yogurt,rice,abrasive cleaner  \n6                                          rolls/buns  \n7   other vegetables,UHT-milk,rolls/buns,bottled b...  \n8                                       potted plants  \n9                                  whole milk,cereals  \n10  tropical fruit,other vegetables,white bread,bo...  \n11  citrus fruit,tropical fruit,whole milk,butter,...  \n12                                               beef  \n13                        frankfurter,rolls/buns,soda  \n14                             chicken,tropical fruit  \n15      butter,sugar,fruit/vegetable juice,newspapers  \n16                              fruit/vegetable juice  \n17                          packaged fruit/vegetables  \n18                                          chocolate  \n19                                      specialty bar  ",
      "text/html": "<div>\n<style scoped>\n    .dataframe tbody tr th:only-of-type {\n        vertical-align: middle;\n    }\n\n    .dataframe tbody tr th {\n        vertical-align: top;\n    }\n\n    .dataframe thead th {\n        text-align: right;\n    }\n</style>\n<table border=\"1\" class=\"dataframe\">\n  <thead>\n    <tr style=\"text-align: right;\">\n      <th></th>\n      <th>Customer_ID</th>\n      <th>Age</th>\n      <th>Sex</th>\n      <th>Marital_Status</th>\n      <th>Education</th>\n      <th>Income</th>\n      <th>Customer_Rating</th>\n      <th>Persons_in_Household</th>\n      <th>Occupation</th>\n      <th>Groceries</th>\n    </tr>\n  </thead>\n  <tbody>\n    <tr>\n      <th>0</th>\n      <td>1</td>\n      <td>75</td>\n      <td>male</td>\n      <td>married</td>\n      <td>primary</td>\n      <td>20000</td>\n      <td>very_good</td>\n      <td>3</td>\n      <td>retired</td>\n      <td>citrus fruit,semi-finished bread,margarine,rea...</td>\n    </tr>\n    <tr>\n      <th>1</th>\n      <td>2</td>\n      <td>61</td>\n      <td>female</td>\n      <td>single</td>\n      <td>secondary</td>\n      <td>28000</td>\n      <td>good</td>\n      <td>1</td>\n      <td>housemaid</td>\n      <td>tropical fruit,yogurt,coffee</td>\n    </tr>\n    <tr>\n      <th>2</th>\n      <td>3</td>\n      <td>32</td>\n      <td>male</td>\n      <td>single</td>\n      <td>secondary</td>\n      <td>34000</td>\n      <td>very_good</td>\n      <td>1</td>\n      <td>blue-collar</td>\n      <td>whole milk</td>\n    </tr>\n    <tr>\n      <th>3</th>\n      <td>4</td>\n      <td>62</td>\n      <td>male</td>\n      <td>married</td>\n      <td>primary</td>\n      <td>31000</td>\n      <td>very_good</td>\n      <td>3</td>\n      <td>blue-collar</td>\n      <td>pip fruit,yogurt,cream cheese,meat spreads</td>\n    </tr>\n    <tr>\n      <th>4</th>\n      <td>5</td>\n      <td>66</td>\n      <td>female</td>\n      <td>married</td>\n      <td>secondary</td>\n      <td>19000</td>\n      <td>good</td>\n      <td>3</td>\n      <td>retired</td>\n      <td>other vegetables,whole milk,condensed milk,lon...</td>\n    </tr>\n    <tr>\n      <th>5</th>\n      <td>6</td>\n      <td>55</td>\n      <td>female</td>\n      <td>single</td>\n      <td>secondary</td>\n      <td>35000</td>\n      <td>very_good</td>\n      <td>1</td>\n      <td>unemployed</td>\n      <td>whole milk,butter,yogurt,rice,abrasive cleaner</td>\n    </tr>\n    <tr>\n      <th>6</th>\n      <td>7</td>\n      <td>23</td>\n      <td>female</td>\n      <td>married</td>\n      <td>tertiary</td>\n      <td>21000</td>\n      <td>good</td>\n      <td>3</td>\n      <td>housemaid</td>\n      <td>rolls/buns</td>\n    </tr>\n    <tr>\n      <th>7</th>\n      <td>8</td>\n      <td>26</td>\n      <td>female</td>\n      <td>single</td>\n      <td>secondary</td>\n      <td>30000</td>\n      <td>good</td>\n      <td>2</td>\n      <td>blue-collar</td>\n      <td>other vegetables,UHT-milk,rolls/buns,bottled b...</td>\n    </tr>\n    <tr>\n      <th>8</th>\n      <td>9</td>\n      <td>29</td>\n      <td>female</td>\n      <td>married</td>\n      <td>secondary</td>\n      <td>32000</td>\n      <td>very_good</td>\n      <td>3</td>\n      <td>blue-collar</td>\n      <td>potted plants</td>\n    </tr>\n    <tr>\n      <th>9</th>\n      <td>10</td>\n      <td>57</td>\n      <td>female</td>\n      <td>married</td>\n      <td>secondary</td>\n      <td>26000</td>\n      <td>good</td>\n      <td>3</td>\n      <td>entrepreneur</td>\n      <td>whole milk,cereals</td>\n    </tr>\n    <tr>\n      <th>10</th>\n      <td>11</td>\n      <td>55</td>\n      <td>female</td>\n      <td>married</td>\n      <td>tertiary</td>\n      <td>30000</td>\n      <td>very_good</td>\n      <td>2</td>\n      <td>entrepreneur</td>\n      <td>tropical fruit,other vegetables,white bread,bo...</td>\n    </tr>\n    <tr>\n      <th>11</th>\n      <td>12</td>\n      <td>57</td>\n      <td>female</td>\n      <td>married</td>\n      <td>tertiary</td>\n      <td>14000</td>\n      <td>fair</td>\n      <td>3</td>\n      <td>blue-collar</td>\n      <td>citrus fruit,tropical fruit,whole milk,butter,...</td>\n    </tr>\n    <tr>\n      <th>12</th>\n      <td>13</td>\n      <td>28</td>\n      <td>male</td>\n      <td>divorced</td>\n      <td>tertiary</td>\n      <td>30000</td>\n      <td>fair</td>\n      <td>1</td>\n      <td>self-employed</td>\n      <td>beef</td>\n    </tr>\n    <tr>\n      <th>13</th>\n      <td>14</td>\n      <td>40</td>\n      <td>male</td>\n      <td>married</td>\n      <td>primary</td>\n      <td>13000</td>\n      <td>fair</td>\n      <td>3</td>\n      <td>entrepreneur</td>\n      <td>frankfurter,rolls/buns,soda</td>\n    </tr>\n    <tr>\n      <th>14</th>\n      <td>15</td>\n      <td>53</td>\n      <td>female</td>\n      <td>divorced</td>\n      <td>tertiary</td>\n      <td>9000</td>\n      <td>excellent</td>\n      <td>1</td>\n      <td>entrepreneur</td>\n      <td>chicken,tropical fruit</td>\n    </tr>\n    <tr>\n      <th>15</th>\n      <td>16</td>\n      <td></td>\n      <td>female</td>\n      <td>married</td>\n      <td>tertiary</td>\n      <td>25000</td>\n      <td>excellent</td>\n      <td>4</td>\n      <td>entrepreneur</td>\n      <td>butter,sugar,fruit/vegetable juice,newspapers</td>\n    </tr>\n    <tr>\n      <th>16</th>\n      <td>17</td>\n      <td>68</td>\n      <td>female</td>\n      <td>married</td>\n      <td>secondary</td>\n      <td></td>\n      <td>excellent</td>\n      <td>3</td>\n      <td>retired</td>\n      <td>fruit/vegetable juice</td>\n    </tr>\n    <tr>\n      <th>17</th>\n      <td>18</td>\n      <td>32</td>\n      <td>male</td>\n      <td>married</td>\n      <td>primary</td>\n      <td>16000</td>\n      <td>very_good</td>\n      <td>3</td>\n      <td>entrepreneur</td>\n      <td>packaged fruit/vegetables</td>\n    </tr>\n    <tr>\n      <th>18</th>\n      <td>19</td>\n      <td>33</td>\n      <td>male</td>\n      <td>single</td>\n      <td>primary</td>\n      <td>18000</td>\n      <td>very_good</td>\n      <td>1</td>\n      <td>blue-collar</td>\n      <td>chocolate</td>\n    </tr>\n    <tr>\n      <th>19</th>\n      <td>20</td>\n      <td>23</td>\n      <td>male</td>\n      <td>married</td>\n      <td>tertiary</td>\n      <td>23000</td>\n      <td>good</td>\n      <td>3</td>\n      <td>entrepreneur</td>\n      <td>specialty bar</td>\n    </tr>\n  </tbody>\n</table>\n</div>"
     },
     "metadata": {},
     "execution_count": 43
    }
   ],
   "source": [
    "#read\n",
    "import pandas as pd \n",
    "df = pd.read_csv(\"groceries.csv\",sep=\";\") \n",
    "\n",
    "#preview data\n",
    "df.head(20)\n"
   ]
  },
  {
   "cell_type": "code",
   "execution_count": 44,
   "metadata": {},
   "outputs": [
    {
     "output_type": "execute_result",
     "data": {
      "text/plain": "Customer_ID              int64\nAge                     object\nSex                     object\nMarital_Status          object\nEducation               object\nIncome                  object\nCustomer_Rating         object\nPersons_in_Household     int64\nOccupation              object\nGroceries               object\ndtype: object"
     },
     "metadata": {},
     "execution_count": 44
    }
   ],
   "source": [
    "#view default  data types\n",
    "df.dtypes"
   ]
  },
  {
   "cell_type": "code",
   "execution_count": 45,
   "metadata": {},
   "outputs": [
    {
     "output_type": "execute_result",
     "data": {
      "text/plain": "Customer_ID                int64\nAge                        int32\nSex                     category\nMarital_Status          category\nEducation               category\nIncome                     int32\nCustomer_Rating         category\nPersons_in_Household       int64\nOccupation              category\nGroceries                 object\nCustomer_Rating_enum       int32\nEducation_enum             int32\ndtype: object"
     },
     "metadata": {},
     "execution_count": 45
    }
   ],
   "source": [
    "import numpy as np\n",
    "#replace ' ' values with NaN\n",
    "df = df.replace(r'^\\s*$', np.nan, regex=True)\n",
    "\n",
    "#set proper data types\n",
    "#numeric\n",
    "df[\"Age\"] = pd.to_numeric(df[\"Age\"],downcast='integer')\n",
    "df[\"Income\"] = pd.to_numeric(df[\"Income\"],downcast='integer')\n",
    "df[\"Persons_in_Household\"] = pd.to_numeric(df[\"Persons_in_Household\"])\n",
    "\n",
    "#nominal\n",
    "df[\"Sex\"] = df[\"Sex\"].astype('category')\n",
    "df[\"Marital_Status\"] = df[\"Marital_Status\"].astype('category')\n",
    "df[\"Occupation\"] = df[\"Occupation\"].astype('category')\n",
    "\n",
    "#ordinal\n",
    "#for the ordinal columns we will replace with an enumeration to calculate similarity as numeric\n",
    "\n",
    "cRatings = df[\"Customer_Rating\"] = pd.Categorical(df[\"Customer_Rating\"], categories=[\"poor\", \"fair\", \"good\", \"very_good\", \"excellent\"], ordered=True)\n",
    "\n",
    "cRatings = cRatings.replace(\"poor\",1).replace(\"fair\",2).replace(\"very_good\",4).replace(\"good\",3).replace(\"excellent\",5)\n",
    "df[\"Customer_Rating_enum\"] = cRatings.astype(np.int)\n",
    "\n",
    "\n",
    "cEducation = df[\"Education\"] = pd.Categorical(df[\"Education\"], categories=[\"primary\", \"secondary\", \"tertiary\"], ordered=True)\n",
    "cEducation = cEducation.replace(\"primary\",0).replace(\"secondary\",1).replace(\"tertiary\",2)\n",
    "df[\"Education_enum\"] = cEducation.astype(np.int)\n",
    "\n",
    "\n",
    "\n",
    "#fill Nan values with mean\n",
    "df.fillna(df.mean().astype(int), inplace=True)\n",
    "df[\"Age\"] = df[\"Age\"].astype(np.int) \n",
    "df[\"Income\"] = df[\"Income\"].astype(np.int) \n",
    "\n",
    "# convert Groceries to set of values\n",
    "df.Groceries= df.Groceries.str.split(\",\") \n",
    "\n",
    "df.dtypes\n",
    "\n",
    "\n",
    "\n"
   ]
  },
  {
   "cell_type": "code",
   "execution_count": 46,
   "metadata": {},
   "outputs": [
    {
     "output_type": "execute_result",
     "data": {
      "text/plain": "    Customer_ID  Age     Sex Marital_Status  Education  Income  \\\n0             1   75    male        married    primary   20000   \n1             2   61  female         single  secondary   28000   \n2             3   32    male         single  secondary   34000   \n3             4   62    male        married    primary   31000   \n4             5   66  female        married  secondary   19000   \n5             6   55  female         single  secondary   35000   \n6             7   23  female        married   tertiary   21000   \n7             8   26  female         single  secondary   30000   \n8             9   29  female        married  secondary   32000   \n9            10   57  female        married  secondary   26000   \n10           11   55  female        married   tertiary   30000   \n11           12   57  female        married   tertiary   14000   \n12           13   28    male       divorced   tertiary   30000   \n13           14   40    male        married    primary   13000   \n14           15   53  female       divorced   tertiary    9000   \n\n   Customer_Rating  Persons_in_Household     Occupation  \\\n0        very_good                     3        retired   \n1             good                     1      housemaid   \n2        very_good                     1    blue-collar   \n3        very_good                     3    blue-collar   \n4             good                     3        retired   \n5        very_good                     1     unemployed   \n6             good                     3      housemaid   \n7             good                     2    blue-collar   \n8        very_good                     3    blue-collar   \n9             good                     3   entrepreneur   \n10       very_good                     2   entrepreneur   \n11            fair                     3    blue-collar   \n12            fair                     1  self-employed   \n13            fair                     3   entrepreneur   \n14       excellent                     1   entrepreneur   \n\n                                            Groceries  Customer_Rating_enum  \\\n0   [citrus fruit, semi-finished bread, margarine,...                     4   \n1                    [tropical fruit, yogurt, coffee]                     3   \n2                                        [whole milk]                     4   \n3     [pip fruit, yogurt, cream cheese, meat spreads]                     4   \n4   [other vegetables, whole milk, condensed milk,...                     3   \n5   [whole milk, butter, yogurt, rice, abrasive cl...                     4   \n6                                        [rolls/buns]                     3   \n7   [other vegetables, UHT-milk, rolls/buns, bottl...                     3   \n8                                     [potted plants]                     4   \n9                               [whole milk, cereals]                     3   \n10  [tropical fruit, other vegetables, white bread...                     4   \n11  [citrus fruit, tropical fruit, whole milk, but...                     2   \n12                                             [beef]                     2   \n13                    [frankfurter, rolls/buns, soda]                     2   \n14                          [chicken, tropical fruit]                     5   \n\n    Education_enum  \n0                0  \n1                1  \n2                1  \n3                0  \n4                1  \n5                1  \n6                2  \n7                1  \n8                1  \n9                1  \n10               2  \n11               2  \n12               2  \n13               0  \n14               2  ",
      "text/html": "<div>\n<style scoped>\n    .dataframe tbody tr th:only-of-type {\n        vertical-align: middle;\n    }\n\n    .dataframe tbody tr th {\n        vertical-align: top;\n    }\n\n    .dataframe thead th {\n        text-align: right;\n    }\n</style>\n<table border=\"1\" class=\"dataframe\">\n  <thead>\n    <tr style=\"text-align: right;\">\n      <th></th>\n      <th>Customer_ID</th>\n      <th>Age</th>\n      <th>Sex</th>\n      <th>Marital_Status</th>\n      <th>Education</th>\n      <th>Income</th>\n      <th>Customer_Rating</th>\n      <th>Persons_in_Household</th>\n      <th>Occupation</th>\n      <th>Groceries</th>\n      <th>Customer_Rating_enum</th>\n      <th>Education_enum</th>\n    </tr>\n  </thead>\n  <tbody>\n    <tr>\n      <th>0</th>\n      <td>1</td>\n      <td>75</td>\n      <td>male</td>\n      <td>married</td>\n      <td>primary</td>\n      <td>20000</td>\n      <td>very_good</td>\n      <td>3</td>\n      <td>retired</td>\n      <td>[citrus fruit, semi-finished bread, margarine,...</td>\n      <td>4</td>\n      <td>0</td>\n    </tr>\n    <tr>\n      <th>1</th>\n      <td>2</td>\n      <td>61</td>\n      <td>female</td>\n      <td>single</td>\n      <td>secondary</td>\n      <td>28000</td>\n      <td>good</td>\n      <td>1</td>\n      <td>housemaid</td>\n      <td>[tropical fruit, yogurt, coffee]</td>\n      <td>3</td>\n      <td>1</td>\n    </tr>\n    <tr>\n      <th>2</th>\n      <td>3</td>\n      <td>32</td>\n      <td>male</td>\n      <td>single</td>\n      <td>secondary</td>\n      <td>34000</td>\n      <td>very_good</td>\n      <td>1</td>\n      <td>blue-collar</td>\n      <td>[whole milk]</td>\n      <td>4</td>\n      <td>1</td>\n    </tr>\n    <tr>\n      <th>3</th>\n      <td>4</td>\n      <td>62</td>\n      <td>male</td>\n      <td>married</td>\n      <td>primary</td>\n      <td>31000</td>\n      <td>very_good</td>\n      <td>3</td>\n      <td>blue-collar</td>\n      <td>[pip fruit, yogurt, cream cheese, meat spreads]</td>\n      <td>4</td>\n      <td>0</td>\n    </tr>\n    <tr>\n      <th>4</th>\n      <td>5</td>\n      <td>66</td>\n      <td>female</td>\n      <td>married</td>\n      <td>secondary</td>\n      <td>19000</td>\n      <td>good</td>\n      <td>3</td>\n      <td>retired</td>\n      <td>[other vegetables, whole milk, condensed milk,...</td>\n      <td>3</td>\n      <td>1</td>\n    </tr>\n    <tr>\n      <th>5</th>\n      <td>6</td>\n      <td>55</td>\n      <td>female</td>\n      <td>single</td>\n      <td>secondary</td>\n      <td>35000</td>\n      <td>very_good</td>\n      <td>1</td>\n      <td>unemployed</td>\n      <td>[whole milk, butter, yogurt, rice, abrasive cl...</td>\n      <td>4</td>\n      <td>1</td>\n    </tr>\n    <tr>\n      <th>6</th>\n      <td>7</td>\n      <td>23</td>\n      <td>female</td>\n      <td>married</td>\n      <td>tertiary</td>\n      <td>21000</td>\n      <td>good</td>\n      <td>3</td>\n      <td>housemaid</td>\n      <td>[rolls/buns]</td>\n      <td>3</td>\n      <td>2</td>\n    </tr>\n    <tr>\n      <th>7</th>\n      <td>8</td>\n      <td>26</td>\n      <td>female</td>\n      <td>single</td>\n      <td>secondary</td>\n      <td>30000</td>\n      <td>good</td>\n      <td>2</td>\n      <td>blue-collar</td>\n      <td>[other vegetables, UHT-milk, rolls/buns, bottl...</td>\n      <td>3</td>\n      <td>1</td>\n    </tr>\n    <tr>\n      <th>8</th>\n      <td>9</td>\n      <td>29</td>\n      <td>female</td>\n      <td>married</td>\n      <td>secondary</td>\n      <td>32000</td>\n      <td>very_good</td>\n      <td>3</td>\n      <td>blue-collar</td>\n      <td>[potted plants]</td>\n      <td>4</td>\n      <td>1</td>\n    </tr>\n    <tr>\n      <th>9</th>\n      <td>10</td>\n      <td>57</td>\n      <td>female</td>\n      <td>married</td>\n      <td>secondary</td>\n      <td>26000</td>\n      <td>good</td>\n      <td>3</td>\n      <td>entrepreneur</td>\n      <td>[whole milk, cereals]</td>\n      <td>3</td>\n      <td>1</td>\n    </tr>\n    <tr>\n      <th>10</th>\n      <td>11</td>\n      <td>55</td>\n      <td>female</td>\n      <td>married</td>\n      <td>tertiary</td>\n      <td>30000</td>\n      <td>very_good</td>\n      <td>2</td>\n      <td>entrepreneur</td>\n      <td>[tropical fruit, other vegetables, white bread...</td>\n      <td>4</td>\n      <td>2</td>\n    </tr>\n    <tr>\n      <th>11</th>\n      <td>12</td>\n      <td>57</td>\n      <td>female</td>\n      <td>married</td>\n      <td>tertiary</td>\n      <td>14000</td>\n      <td>fair</td>\n      <td>3</td>\n      <td>blue-collar</td>\n      <td>[citrus fruit, tropical fruit, whole milk, but...</td>\n      <td>2</td>\n      <td>2</td>\n    </tr>\n    <tr>\n      <th>12</th>\n      <td>13</td>\n      <td>28</td>\n      <td>male</td>\n      <td>divorced</td>\n      <td>tertiary</td>\n      <td>30000</td>\n      <td>fair</td>\n      <td>1</td>\n      <td>self-employed</td>\n      <td>[beef]</td>\n      <td>2</td>\n      <td>2</td>\n    </tr>\n    <tr>\n      <th>13</th>\n      <td>14</td>\n      <td>40</td>\n      <td>male</td>\n      <td>married</td>\n      <td>primary</td>\n      <td>13000</td>\n      <td>fair</td>\n      <td>3</td>\n      <td>entrepreneur</td>\n      <td>[frankfurter, rolls/buns, soda]</td>\n      <td>2</td>\n      <td>0</td>\n    </tr>\n    <tr>\n      <th>14</th>\n      <td>15</td>\n      <td>53</td>\n      <td>female</td>\n      <td>divorced</td>\n      <td>tertiary</td>\n      <td>9000</td>\n      <td>excellent</td>\n      <td>1</td>\n      <td>entrepreneur</td>\n      <td>[chicken, tropical fruit]</td>\n      <td>5</td>\n      <td>2</td>\n    </tr>\n  </tbody>\n</table>\n</div>"
     },
     "metadata": {},
     "execution_count": 46
    }
   ],
   "source": [
    "\n",
    "df.head(15)"
   ]
  },
  {
   "cell_type": "code",
   "execution_count": 47,
   "metadata": {},
   "outputs": [],
   "source": [
    "import itertools\n",
    "import time\n",
    "\n",
    "def jaccard_sim(list1, list2):\n",
    "    intersection = len(list(set(list1).intersection(list2)))\n",
    "    union = (len(list1) + len(list2)) - intersection\n",
    "    return round(float(intersection) / union, 2)\n",
    "\n",
    "def numeric_sim(num1, num2, maxvalue,minvalue):\n",
    "    return 1- abs(num1-num2) / (maxvalue - minvalue)\n",
    "\n",
    "def nominal_sim(nom1,nom2):\n",
    "    return int(nom1 == nom2)\n",
    "\n",
    "\n",
    "   \n",
    "\n",
    "def pairwiseJaccard(cust):\n",
    "    sim={}\n",
    "    print(\"Computing Jaccard similarities\")\n",
    "    start_time = time.time()\n",
    "    for pair in itertools.combinations(cust, r=2):\n",
    "        s=jaccard_sim(cust[pair[0]],cust[pair[1]])\n",
    "        sim[tuple([pair[0],pair[1]])]=s\n",
    "    \n",
    "    end_time = time.time()\n",
    "    print(\"Jaccard Success after: \" ,end_time-start_time)\n",
    "    return sim\n",
    "\n",
    "def pairwiseNominal(cust):\n",
    "    sim={}\n",
    "    print(\"Computing Nominal similarities\")\n",
    "    start_time = time.time()\n",
    "    for pair in itertools.combinations(cust, r=2):\n",
    "        s=nominal_sim(cust[pair[0]],cust[pair[1]])\n",
    "        sim[tuple([pair[0],pair[1]])]=s\n",
    "    \n",
    "    end_time = time.time()\n",
    "    print(\"Nominal Success after: \" ,end_time-start_time)\n",
    "    return sim\n",
    "\n",
    "def pairwiseNumeric(cust, maxvalue,minvalue):\n",
    "    sim={}\n",
    "    print(\"Computing numeric similarities\")\n",
    "    start_time = time.time()\n",
    "    for pair in itertools.combinations(cust, r=2):\n",
    "        s=numeric_sim(cust[pair[0]],cust[pair[1]],maxvalue,minvalue)\n",
    "        #print(cust[pair[0]],cust[pair[1]],maxvalue,minvalue,\"=\", s,\"\\n\")\n",
    "        sim[tuple([pair[0],pair[1]])]=s\n",
    "    \n",
    "    end_time = time.time()\n",
    "    print(\"Numeric Success after: \" ,end_time-start_time)\n",
    "    return sim\n"
   ]
  },
  {
   "cell_type": "code",
   "execution_count": 48,
   "metadata": {
    "tags": [
     "outputPrepend",
     "outputPrepend",
     "outputPrepend",
     "outputPrepend",
     "outputPrepend",
     "outputPrepend",
     "outputPrepend",
     "outputPrepend",
     "outputPrepend",
     "outputPrepend",
     "outputPrepend",
     "outputPrepend",
     "outputPrepend",
     "outputPrepend",
     "outputPrepend",
     "outputPrepend",
     "outputPrepend",
     "outputPrepend",
     "outputPrepend",
     "outputPrepend",
     "outputPrepend",
     "outputPrepend",
     "outputPrepend",
     "outputPrepend",
     "outputPrepend",
     "outputPrepend",
     "outputPrepend",
     "outputPrepend",
     "outputPrepend",
     "outputPrepend",
     "outputPrepend",
     "outputPrepend",
     "outputPrepend",
     "outputPrepend",
     "outputPrepend",
     "outputPrepend",
     "outputPrepend",
     "outputPrepend",
     "outputPrepend",
     "outputPrepend",
     "outputPrepend",
     "outputPrepend",
     "outputPrepend",
     "outputPrepend",
     "outputPrepend",
     "outputPrepend",
     "outputPrepend",
     "outputPrepend",
     "outputPrepend",
     "outputPrepend",
     "outputPrepend",
     "outputPrepend",
     "outputPrepend",
     "outputPrepend",
     "outputPrepend",
     "outputPrepend",
     "outputPrepend",
     "outputPrepend",
     "outputPrepend",
     "outputPrepend",
     "outputPrepend",
     "outputPrepend",
     "outputPrepend",
     "outputPrepend",
     "outputPrepend",
     "outputPrepend",
     "outputPrepend",
     "outputPrepend",
     "outputPrepend",
     "outputPrepend",
     "outputPrepend",
     "outputPrepend",
     "outputPrepend",
     "outputPrepend",
     "outputPrepend",
     "outputPrepend",
     "outputPrepend",
     "outputPrepend",
     "outputPrepend",
     "outputPrepend",
     "outputPrepend",
     "outputPrepend",
     "outputPrepend",
     "outputPrepend",
     "outputPrepend",
     "outputPrepend",
     "outputPrepend",
     "outputPrepend",
     "outputPrepend",
     "outputPrepend",
     "outputPrepend",
     "outputPrepend",
     "outputPrepend",
     "outputPrepend",
     "outputPrepend",
     "outputPrepend",
     "outputPrepend",
     "outputPrepend",
     "outputPrepend",
     "outputPrepend",
     "outputPrepend",
     "outputPrepend",
     "outputPrepend",
     "outputPrepend",
     "outputPrepend",
     "outputPrepend",
     "outputPrepend",
     "outputPrepend",
     "outputPrepend",
     "outputPrepend",
     "outputPrepend",
     "outputPrepend",
     "outputPrepend",
     "outputPrepend",
     "outputPrepend",
     "outputPrepend",
     "outputPrepend",
     "outputPrepend",
     "outputPrepend",
     "outputPrepend",
     "outputPrepend",
     "outputPrepend",
     "outputPrepend",
     "outputPrepend"
    ]
   },
   "outputs": [],
   "source": [
    "#numeric\n",
    "age_d = dict(zip(df.Customer_ID, df.Age))\n",
    "persons_d = dict(zip(df.Customer_ID, df.Persons_in_Household))\n",
    "income_d = dict(zip(df.Customer_ID, df.Income))\n",
    "\n",
    "#nominal\n",
    "sex_d = dict(zip(df.Customer_ID, df.Sex))\n",
    "occupation_d = dict(zip(df.Customer_ID, df.Occupation))\n",
    "marital_d = dict(zip(df.Customer_ID, df.Marital_Status))\n",
    "\n",
    "#ordinal\n",
    "customer_rating_d = dict(zip(df.Customer_ID, df.Customer_Rating_enum))\n",
    "education_enum_d = dict(zip(df.Customer_ID, df.Education_enum))\n",
    "\n",
    "#set\n",
    "groceries_d = dict(zip(df.Customer_ID, df.Groceries))\n",
    "\n",
    "\n",
    "#helper test dictionaries\n",
    "#short_groceries_d = dict(list(groceries_d.items())[0:1000])\n",
    "#short_sex_d = dict(list(sex_d.items())[0:1000])\n",
    "#short_cust_rating = dict(list(customer_rating_d.items())[0:1000])\n",
    "#numeric\n",
    "dsize = 5000\n",
    "age_d = dict(list(age_d.items())[0:dsize])\n",
    "persons_d = dict(list(persons_d.items())[0:dsize])\n",
    "income_d = dict(list(income_d.items())[0:dsize])\n",
    "\n",
    "sex_d = dict(list(sex_d.items())[0:dsize])\n",
    "occupation_d = dict(list(occupation_d.items())[0:dsize])\n",
    "marital_d = dict(list(marital_d.items())[0:dsize])\n",
    "customer_rating_d = dict(list(customer_rating_d.items())[0:dsize])\n",
    "education_enum_d = dict(list(education_enum_d.items())[0:dsize])\n",
    "groceries_d = dict(list(groceries_d.items())[0:dsize])\n",
    "\n",
    "\n",
    "\n"
   ]
  },
  {
   "cell_type": "code",
   "execution_count": 53,
   "metadata": {},
   "outputs": [
    {
     "output_type": "stream",
     "name": "stdout",
     "text": "Computing numeric similarities\nNumeric Success after:  39.79150700569153\n"
    },
    {
     "output_type": "execute_result",
     "data": {
      "text/plain": "49995000"
     },
     "metadata": {},
     "execution_count": 53
    }
   ],
   "source": [
    "full_age_d = dict(zip(df.Customer_ID, df.Age))\n",
    "fullsimAge = pairwiseNumeric(full_age_d, df.Age.max(),df.Age.min())\n",
    "len(fullsimAge)"
   ]
  },
  {
   "cell_type": "code",
   "execution_count": 49,
   "metadata": {},
   "outputs": [
    {
     "output_type": "stream",
     "name": "stdout",
     "text": "Computing numeric similarities\nNumeric Success after:  9.347217798233032\nComputing numeric similarities\nNumeric Success after:  8.118677377700806\nComputing numeric similarities\nNumeric Success after:  8.705960273742676\nComputing Nominal similarities\nNominal Success after:  9.411413192749023\nComputing Nominal similarities\nNominal Success after:  7.9510087966918945\nComputing Nominal similarities\nNominal Success after:  9.444453239440918\nComputing numeric similarities\nNumeric Success after:  8.61483097076416\nComputing numeric similarities\nNumeric Success after:  8.777297258377075\nComputing Jaccard similarities\nJaccard Success after:  24.39653706550598\n"
    }
   ],
   "source": [
    "###Calculate Similarities\n",
    "\n",
    "#numeric\n",
    "simAge = pairwiseNumeric(age_d, df.Age.max(),df.Age.min())\n",
    "simHouseholdPersons = pairwiseNumeric(persons_d,df.Persons_in_Household.max(),df.Persons_in_Household.min())\n",
    "simIncome = pairwiseNumeric(income_d,df.Income.max(),df.Income.min())\n",
    "\n",
    "#nominal\n",
    "simSex = pairwiseNominal(sex_d)\n",
    "simOccupation = pairwiseNominal(occupation_d)\n",
    "simMaritalStatus = pairwiseNominal(marital_d)\n",
    "\n",
    "\n",
    "#ordinal\n",
    "simCustomerRating = pairwiseNumeric(customer_rating_d,df.Customer_Rating_enum.max(), df.Customer_Rating_enum.min())\n",
    "simEducation = pairwiseNumeric(education_enum_d,df.Education_enum.max(), df.Education_enum.min())\n",
    "\n",
    "#set\n",
    "simGroceries = pairwiseJaccard(groceries_d)\n",
    "\n",
    "\n",
    "\n"
   ]
  },
  {
   "cell_type": "code",
   "execution_count": 50,
   "metadata": {
    "tags": [
     "outputPrepend",
     "outputPrepend",
     "outputPrepend",
     "outputPrepend"
    ]
   },
   "outputs": [],
   "source": [
    "def GetDictionaryWithAvgSimilarity(listSim):\n",
    "    d0=listSim[0]\n",
    "    i=1;\n",
    "    while i < len(listSim) :\n",
    "        for k, value in d0.items():\n",
    "            d0[k] = round(float((d0[k] + listSim[i][k]) / 2),2)\n",
    "\n",
    "        i+=1\n",
    "    return d0\n",
    "\n",
    "SimilarityList = [simAge,simHouseholdPersons,simIncome, simMaritalStatus, simGroceries, simSex,simOccupation, simCustomerRating, simEducation]\n",
    "avgSim =  GetDictionaryWithAvgSimilarity(SimilarityList)"
   ]
  },
  {
   "cell_type": "code",
   "execution_count": 51,
   "metadata": {},
   "outputs": [
    {
     "output_type": "execute_result",
     "data": {
      "text/plain": "{(1, 2): 0.45,\n (1, 3): 0.57,\n (1, 4): 0.84,\n (1, 5): 0.59,\n (1, 6): 0.51,\n (1, 7): 0.21,\n (1, 8): 0.45,\n (1, 9): 0.53,\n (1, 10): 0.46,\n (1, 11): 0.28}"
     },
     "metadata": {},
     "execution_count": 51
    }
   ],
   "source": [
    "dict(list(simAge.items())[0:10])"
   ]
  },
  {
   "cell_type": "code",
   "execution_count": 52,
   "metadata": {
    "tags": [
     "outputPrepend"
    ]
   },
   "outputs": [
    {
     "output_type": "stream",
     "name": "stdout",
     "text": "Top  10  nearest customers to CustomerID: 73  \n1203  with similarity score: 0.97\n1291  with similarity score: 0.97\n1846  with similarity score: 0.97\n3623  with similarity score: 0.97\n66  with similarity score: 0.96\n143  with similarity score: 0.96\n347  with similarity score: 0.96\n468  with similarity score: 0.96\n797  with similarity score: 0.96\n872  with similarity score: 0.96\n\n\nTop  10  nearest customers to CustomerID: 563  \n3634  with similarity score: 0.99\n4290  with similarity score: 0.98\n7  with similarity score: 0.97\n44  with similarity score: 0.97\n351  with similarity score: 0.97\n419  with similarity score: 0.97\n421  with similarity score: 0.97\n426  with similarity score: 0.97\n559  with similarity score: 0.97\n866  with similarity score: 0.97\n\n\nTop  10  nearest customers to CustomerID: 1603  \n109  with similarity score: 0.97\n168  with similarity score: 0.97\n568  with similarity score: 0.97\n4628  with similarity score: 0.97\n412  with similarity score: 0.96\n1708  with similarity score: 0.96\n3286  with similarity score: 0.96\n4759  with similarity score: 0.96\n651  with similarity score: 0.95\n2175  with similarity score: 0.95\n\n\nTop  10  nearest customers to CustomerID: 2200  \n203  with similarity score: 0.96\n176  with similarity score: 0.95\n838  with similarity score: 0.95\n2231  with similarity score: 0.95\n2465  with similarity score: 0.95\n2562  with similarity score: 0.95\n4521  with similarity score: 0.95\n4701  with similarity score: 0.95\n4903  with similarity score: 0.95\n2375  with similarity score: 0.92\n\n\nTop  10  nearest customers to CustomerID: 3703  \n1505  with similarity score: 0.97\n1604  with similarity score: 0.97\n1837  with similarity score: 0.97\n3352  with similarity score: 0.97\n3410  with similarity score: 0.97\n3990  with similarity score: 0.97\n4046  with similarity score: 0.97\n4373  with similarity score: 0.97\n4838  with similarity score: 0.97\n448  with similarity score: 0.96\n\n\nTop  10  nearest customers to CustomerID: 4263  \n3434  with similarity score: 0.97\n1693  with similarity score: 0.96\n2733  with similarity score: 0.96\n1415  with similarity score: 0.95\n231  with similarity score: 0.91\n1169  with similarity score: 0.91\n1896  with similarity score: 0.91\n2195  with similarity score: 0.91\n3822  with similarity score: 0.91\n4763  with similarity score: 0.91\n\n\nTop  10  nearest customers to CustomerID: 5300  \n\n\nTop  10  nearest customers to CustomerID: 6129  \n\n\nTop  10  nearest customers to CustomerID: 7800  \n\n\nTop  10  nearest customers to CustomerID: 8555  \n\n\n"
    }
   ],
   "source": [
    "import operator\n",
    "\n",
    "def GetSimilarCustomers(customerID,head,sim):\n",
    "    filtered_dict = {k:v for (k,v) in sim.items() if customerID in k}\n",
    "    sorted_d = dict(sorted(filtered_dict.items(), key=operator.itemgetter(1),reverse=True))\n",
    "    return dict(list(sorted_d.items())[0:head])\n",
    "\n",
    "\n",
    "\n",
    "customerids = [73, 563, 1603, 2200,3703, 4263, 5300, 6129, 7800, 8555]\n",
    "kn=10\n",
    "for i in customerids: \n",
    "    print(\"Top \",kn, \" nearest customers to CustomerID:\",i, \" \")\n",
    "    simC = GetSimilarCustomers(i,kn,avgSim)\n",
    "    for k,v in simC.items():\n",
    "        if k[0] != i:\n",
    "            print(k[0],\" with similarity score:\",v)\n",
    "        else:\n",
    "            print(k[1],\" with similarity score:\",v)\n",
    "\n",
    "    print(\"\\n\")\n",
    "\n",
    "\n",
    "#73, 563, 1603, 2200, 3703, 4263, 5300, 6129, 7800, 8555\n",
    "\n"
   ]
  },
  {
   "cell_type": "code",
   "execution_count": null,
   "metadata": {},
   "outputs": [],
   "source": []
  },
  {
   "cell_type": "code",
   "execution_count": null,
   "metadata": {},
   "outputs": [],
   "source": []
  }
 ],
 "metadata": {
  "language_info": {
   "codemirror_mode": {
    "name": "ipython",
    "version": 3
   },
   "file_extension": ".py",
   "mimetype": "text/x-python",
   "name": "python",
   "nbconvert_exporter": "python",
   "pygments_lexer": "ipython3",
   "version": "3.8.2-final"
  },
  "orig_nbformat": 2,
  "kernelspec": {
   "name": "python3",
   "display_name": "Python 3"
  }
 },
 "nbformat": 4,
 "nbformat_minor": 2
}
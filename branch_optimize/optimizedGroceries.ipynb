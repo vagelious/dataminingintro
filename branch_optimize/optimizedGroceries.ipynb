{
 "cells": [
  {
   "cell_type": "markdown",
   "metadata": {},
   "source": [
    "# Big Data Mining, 1st Assignment solution\n",
    "## Vangelis Christou, p2821805\n",
    "\n"
   ]
  },
  {
   "cell_type": "code",
   "execution_count": 28,
   "metadata": {},
   "outputs": [
    {
     "output_type": "execute_result",
     "data": {
      "text/plain": "   Customer_ID Age     Sex Marital_Status  Education Income Customer_Rating  \\\n0            1  75    male        married    primary  20000       very_good   \n1            2  61  female         single  secondary  28000            good   \n2            3  32    male         single  secondary  34000       very_good   \n3            4  62    male        married    primary  31000       very_good   \n4            5  66  female        married  secondary  19000            good   \n\n   Persons_in_Household   Occupation  \\\n0                     3      retired   \n1                     1    housemaid   \n2                     1  blue-collar   \n3                     3  blue-collar   \n4                     3      retired   \n\n                                           Groceries  \n0  citrus fruit,semi-finished bread,margarine,rea...  \n1                       tropical fruit,yogurt,coffee  \n2                                         whole milk  \n3         pip fruit,yogurt,cream cheese,meat spreads  \n4  other vegetables,whole milk,condensed milk,lon...  ",
      "text/html": "<div>\n<style scoped>\n    .dataframe tbody tr th:only-of-type {\n        vertical-align: middle;\n    }\n\n    .dataframe tbody tr th {\n        vertical-align: top;\n    }\n\n    .dataframe thead th {\n        text-align: right;\n    }\n</style>\n<table border=\"1\" class=\"dataframe\">\n  <thead>\n    <tr style=\"text-align: right;\">\n      <th></th>\n      <th>Customer_ID</th>\n      <th>Age</th>\n      <th>Sex</th>\n      <th>Marital_Status</th>\n      <th>Education</th>\n      <th>Income</th>\n      <th>Customer_Rating</th>\n      <th>Persons_in_Household</th>\n      <th>Occupation</th>\n      <th>Groceries</th>\n    </tr>\n  </thead>\n  <tbody>\n    <tr>\n      <th>0</th>\n      <td>1</td>\n      <td>75</td>\n      <td>male</td>\n      <td>married</td>\n      <td>primary</td>\n      <td>20000</td>\n      <td>very_good</td>\n      <td>3</td>\n      <td>retired</td>\n      <td>citrus fruit,semi-finished bread,margarine,rea...</td>\n    </tr>\n    <tr>\n      <th>1</th>\n      <td>2</td>\n      <td>61</td>\n      <td>female</td>\n      <td>single</td>\n      <td>secondary</td>\n      <td>28000</td>\n      <td>good</td>\n      <td>1</td>\n      <td>housemaid</td>\n      <td>tropical fruit,yogurt,coffee</td>\n    </tr>\n    <tr>\n      <th>2</th>\n      <td>3</td>\n      <td>32</td>\n      <td>male</td>\n      <td>single</td>\n      <td>secondary</td>\n      <td>34000</td>\n      <td>very_good</td>\n      <td>1</td>\n      <td>blue-collar</td>\n      <td>whole milk</td>\n    </tr>\n    <tr>\n      <th>3</th>\n      <td>4</td>\n      <td>62</td>\n      <td>male</td>\n      <td>married</td>\n      <td>primary</td>\n      <td>31000</td>\n      <td>very_good</td>\n      <td>3</td>\n      <td>blue-collar</td>\n      <td>pip fruit,yogurt,cream cheese,meat spreads</td>\n    </tr>\n    <tr>\n      <th>4</th>\n      <td>5</td>\n      <td>66</td>\n      <td>female</td>\n      <td>married</td>\n      <td>secondary</td>\n      <td>19000</td>\n      <td>good</td>\n      <td>3</td>\n      <td>retired</td>\n      <td>other vegetables,whole milk,condensed milk,lon...</td>\n    </tr>\n  </tbody>\n</table>\n</div>"
     },
     "metadata": {},
     "execution_count": 28
    }
   ],
   "source": [
    "#read\n",
    "import pandas as pd \n",
    "df = pd.read_csv(\"groceries.csv\",sep=\";\") \n",
    "\n",
    "#preview data\n",
    "df.head()\n"
   ]
  },
  {
   "cell_type": "code",
   "execution_count": 29,
   "metadata": {},
   "outputs": [
    {
     "output_type": "execute_result",
     "data": {
      "text/plain": "Customer_ID              int64\nAge                     object\nSex                     object\nMarital_Status          object\nEducation               object\nIncome                  object\nCustomer_Rating         object\nPersons_in_Household     int64\nOccupation              object\nGroceries               object\ndtype: object"
     },
     "metadata": {},
     "execution_count": 29
    }
   ],
   "source": [
    "#view default  data types\n",
    "df.dtypes"
   ]
  },
  {
   "cell_type": "code",
   "execution_count": 30,
   "metadata": {},
   "outputs": [
    {
     "output_type": "execute_result",
     "data": {
      "text/plain": "Customer_ID                int64\nAge                        int32\nSex                     category\nMarital_Status          category\nEducation               category\nIncome                     int32\nCustomer_Rating         category\nPersons_in_Household       int64\nOccupation              category\nGroceries                 object\nCustomer_Rating_enum       int32\nEducation_enum             int32\ndtype: object"
     },
     "metadata": {},
     "execution_count": 30
    }
   ],
   "source": [
    "import numpy as np\n",
    "#replace ' ' values with NaN\n",
    "df = df.replace(r'^\\s*$', np.nan, regex=True)\n",
    "\n",
    "#set proper data types\n",
    "#numeric\n",
    "df[\"Age\"] = pd.to_numeric(df[\"Age\"],downcast='integer')\n",
    "df[\"Income\"] = pd.to_numeric(df[\"Income\"],downcast='integer')\n",
    "df[\"Persons_in_Household\"] = pd.to_numeric(df[\"Persons_in_Household\"])\n",
    "\n",
    "#nominal\n",
    "df[\"Sex\"] = df[\"Sex\"].astype('category')\n",
    "df[\"Marital_Status\"] = df[\"Marital_Status\"].astype('category')\n",
    "df[\"Occupation\"] = df[\"Occupation\"].astype('category')\n",
    "\n",
    "#ordinal\n",
    "#for the ordinal columns we will replace with an enumeration to calculate similarity as numeric\n",
    "\n",
    "cRatings = df[\"Customer_Rating\"] = pd.Categorical(df[\"Customer_Rating\"], categories=[\"poor\", \"fair\", \"good\", \"very_good\", \"excellent\"], ordered=True)\n",
    "\n",
    "cRatings = cRatings.replace(\"poor\",1).replace(\"fair\",2).replace(\"very_good\",4).replace(\"good\",3).replace(\"excellent\",5)\n",
    "df[\"Customer_Rating_enum\"] = cRatings.astype(np.int)\n",
    "\n",
    "\n",
    "cEducation = df[\"Education\"] = pd.Categorical(df[\"Education\"], categories=[\"primary\", \"secondary\", \"tertiary\"], ordered=True)\n",
    "cEducation = cEducation.replace(\"primary\",0).replace(\"secondary\",1).replace(\"tertiary\",2)\n",
    "df[\"Education_enum\"] = cEducation.astype(np.int)\n",
    "\n",
    "\n",
    "\n",
    "#fill Nan values with mean\n",
    "df.fillna(df.mean().astype(int), inplace=True)\n",
    "df[\"Age\"] = df[\"Age\"].astype(np.int) \n",
    "df[\"Income\"] = df[\"Income\"].astype(np.int) \n",
    "\n",
    "# convert Groceries to set of values\n",
    "df.Groceries= df.Groceries.str.split(\",\") \n",
    "\n",
    "df.dtypes\n",
    "\n",
    "\n",
    "\n"
   ]
  },
  {
   "cell_type": "code",
   "execution_count": 31,
   "metadata": {},
   "outputs": [
    {
     "output_type": "execute_result",
     "data": {
      "text/plain": "    Customer_ID  Age     Sex Marital_Status  Education  Income  \\\n0             1   75    male        married    primary   20000   \n1             2   61  female         single  secondary   28000   \n2             3   32    male         single  secondary   34000   \n3             4   62    male        married    primary   31000   \n4             5   66  female        married  secondary   19000   \n5             6   55  female         single  secondary   35000   \n6             7   23  female        married   tertiary   21000   \n7             8   26  female         single  secondary   30000   \n8             9   29  female        married  secondary   32000   \n9            10   57  female        married  secondary   26000   \n10           11   55  female        married   tertiary   30000   \n11           12   57  female        married   tertiary   14000   \n12           13   28    male       divorced   tertiary   30000   \n13           14   40    male        married    primary   13000   \n14           15   53  female       divorced   tertiary    9000   \n\n   Customer_Rating  Persons_in_Household     Occupation  \\\n0        very_good                     3        retired   \n1             good                     1      housemaid   \n2        very_good                     1    blue-collar   \n3        very_good                     3    blue-collar   \n4             good                     3        retired   \n5        very_good                     1     unemployed   \n6             good                     3      housemaid   \n7             good                     2    blue-collar   \n8        very_good                     3    blue-collar   \n9             good                     3   entrepreneur   \n10       very_good                     2   entrepreneur   \n11            fair                     3    blue-collar   \n12            fair                     1  self-employed   \n13            fair                     3   entrepreneur   \n14       excellent                     1   entrepreneur   \n\n                                            Groceries  Customer_Rating_enum  \\\n0   [citrus fruit, semi-finished bread, margarine,...                     4   \n1                    [tropical fruit, yogurt, coffee]                     3   \n2                                        [whole milk]                     4   \n3     [pip fruit, yogurt, cream cheese, meat spreads]                     4   \n4   [other vegetables, whole milk, condensed milk,...                     3   \n5   [whole milk, butter, yogurt, rice, abrasive cl...                     4   \n6                                        [rolls/buns]                     3   \n7   [other vegetables, UHT-milk, rolls/buns, bottl...                     3   \n8                                     [potted plants]                     4   \n9                               [whole milk, cereals]                     3   \n10  [tropical fruit, other vegetables, white bread...                     4   \n11  [citrus fruit, tropical fruit, whole milk, but...                     2   \n12                                             [beef]                     2   \n13                    [frankfurter, rolls/buns, soda]                     2   \n14                          [chicken, tropical fruit]                     5   \n\n    Education_enum  \n0                0  \n1                1  \n2                1  \n3                0  \n4                1  \n5                1  \n6                2  \n7                1  \n8                1  \n9                1  \n10               2  \n11               2  \n12               2  \n13               0  \n14               2  ",
      "text/html": "<div>\n<style scoped>\n    .dataframe tbody tr th:only-of-type {\n        vertical-align: middle;\n    }\n\n    .dataframe tbody tr th {\n        vertical-align: top;\n    }\n\n    .dataframe thead th {\n        text-align: right;\n    }\n</style>\n<table border=\"1\" class=\"dataframe\">\n  <thead>\n    <tr style=\"text-align: right;\">\n      <th></th>\n      <th>Customer_ID</th>\n      <th>Age</th>\n      <th>Sex</th>\n      <th>Marital_Status</th>\n      <th>Education</th>\n      <th>Income</th>\n      <th>Customer_Rating</th>\n      <th>Persons_in_Household</th>\n      <th>Occupation</th>\n      <th>Groceries</th>\n      <th>Customer_Rating_enum</th>\n      <th>Education_enum</th>\n    </tr>\n  </thead>\n  <tbody>\n    <tr>\n      <th>0</th>\n      <td>1</td>\n      <td>75</td>\n      <td>male</td>\n      <td>married</td>\n      <td>primary</td>\n      <td>20000</td>\n      <td>very_good</td>\n      <td>3</td>\n      <td>retired</td>\n      <td>[citrus fruit, semi-finished bread, margarine,...</td>\n      <td>4</td>\n      <td>0</td>\n    </tr>\n    <tr>\n      <th>1</th>\n      <td>2</td>\n      <td>61</td>\n      <td>female</td>\n      <td>single</td>\n      <td>secondary</td>\n      <td>28000</td>\n      <td>good</td>\n      <td>1</td>\n      <td>housemaid</td>\n      <td>[tropical fruit, yogurt, coffee]</td>\n      <td>3</td>\n      <td>1</td>\n    </tr>\n    <tr>\n      <th>2</th>\n      <td>3</td>\n      <td>32</td>\n      <td>male</td>\n      <td>single</td>\n      <td>secondary</td>\n      <td>34000</td>\n      <td>very_good</td>\n      <td>1</td>\n      <td>blue-collar</td>\n      <td>[whole milk]</td>\n      <td>4</td>\n      <td>1</td>\n    </tr>\n    <tr>\n      <th>3</th>\n      <td>4</td>\n      <td>62</td>\n      <td>male</td>\n      <td>married</td>\n      <td>primary</td>\n      <td>31000</td>\n      <td>very_good</td>\n      <td>3</td>\n      <td>blue-collar</td>\n      <td>[pip fruit, yogurt, cream cheese, meat spreads]</td>\n      <td>4</td>\n      <td>0</td>\n    </tr>\n    <tr>\n      <th>4</th>\n      <td>5</td>\n      <td>66</td>\n      <td>female</td>\n      <td>married</td>\n      <td>secondary</td>\n      <td>19000</td>\n      <td>good</td>\n      <td>3</td>\n      <td>retired</td>\n      <td>[other vegetables, whole milk, condensed milk,...</td>\n      <td>3</td>\n      <td>1</td>\n    </tr>\n    <tr>\n      <th>5</th>\n      <td>6</td>\n      <td>55</td>\n      <td>female</td>\n      <td>single</td>\n      <td>secondary</td>\n      <td>35000</td>\n      <td>very_good</td>\n      <td>1</td>\n      <td>unemployed</td>\n      <td>[whole milk, butter, yogurt, rice, abrasive cl...</td>\n      <td>4</td>\n      <td>1</td>\n    </tr>\n    <tr>\n      <th>6</th>\n      <td>7</td>\n      <td>23</td>\n      <td>female</td>\n      <td>married</td>\n      <td>tertiary</td>\n      <td>21000</td>\n      <td>good</td>\n      <td>3</td>\n      <td>housemaid</td>\n      <td>[rolls/buns]</td>\n      <td>3</td>\n      <td>2</td>\n    </tr>\n    <tr>\n      <th>7</th>\n      <td>8</td>\n      <td>26</td>\n      <td>female</td>\n      <td>single</td>\n      <td>secondary</td>\n      <td>30000</td>\n      <td>good</td>\n      <td>2</td>\n      <td>blue-collar</td>\n      <td>[other vegetables, UHT-milk, rolls/buns, bottl...</td>\n      <td>3</td>\n      <td>1</td>\n    </tr>\n    <tr>\n      <th>8</th>\n      <td>9</td>\n      <td>29</td>\n      <td>female</td>\n      <td>married</td>\n      <td>secondary</td>\n      <td>32000</td>\n      <td>very_good</td>\n      <td>3</td>\n      <td>blue-collar</td>\n      <td>[potted plants]</td>\n      <td>4</td>\n      <td>1</td>\n    </tr>\n    <tr>\n      <th>9</th>\n      <td>10</td>\n      <td>57</td>\n      <td>female</td>\n      <td>married</td>\n      <td>secondary</td>\n      <td>26000</td>\n      <td>good</td>\n      <td>3</td>\n      <td>entrepreneur</td>\n      <td>[whole milk, cereals]</td>\n      <td>3</td>\n      <td>1</td>\n    </tr>\n    <tr>\n      <th>10</th>\n      <td>11</td>\n      <td>55</td>\n      <td>female</td>\n      <td>married</td>\n      <td>tertiary</td>\n      <td>30000</td>\n      <td>very_good</td>\n      <td>2</td>\n      <td>entrepreneur</td>\n      <td>[tropical fruit, other vegetables, white bread...</td>\n      <td>4</td>\n      <td>2</td>\n    </tr>\n    <tr>\n      <th>11</th>\n      <td>12</td>\n      <td>57</td>\n      <td>female</td>\n      <td>married</td>\n      <td>tertiary</td>\n      <td>14000</td>\n      <td>fair</td>\n      <td>3</td>\n      <td>blue-collar</td>\n      <td>[citrus fruit, tropical fruit, whole milk, but...</td>\n      <td>2</td>\n      <td>2</td>\n    </tr>\n    <tr>\n      <th>12</th>\n      <td>13</td>\n      <td>28</td>\n      <td>male</td>\n      <td>divorced</td>\n      <td>tertiary</td>\n      <td>30000</td>\n      <td>fair</td>\n      <td>1</td>\n      <td>self-employed</td>\n      <td>[beef]</td>\n      <td>2</td>\n      <td>2</td>\n    </tr>\n    <tr>\n      <th>13</th>\n      <td>14</td>\n      <td>40</td>\n      <td>male</td>\n      <td>married</td>\n      <td>primary</td>\n      <td>13000</td>\n      <td>fair</td>\n      <td>3</td>\n      <td>entrepreneur</td>\n      <td>[frankfurter, rolls/buns, soda]</td>\n      <td>2</td>\n      <td>0</td>\n    </tr>\n    <tr>\n      <th>14</th>\n      <td>15</td>\n      <td>53</td>\n      <td>female</td>\n      <td>divorced</td>\n      <td>tertiary</td>\n      <td>9000</td>\n      <td>excellent</td>\n      <td>1</td>\n      <td>entrepreneur</td>\n      <td>[chicken, tropical fruit]</td>\n      <td>5</td>\n      <td>2</td>\n    </tr>\n  </tbody>\n</table>\n</div>"
     },
     "metadata": {},
     "execution_count": 31
    }
   ],
   "source": [
    "\n",
    "df.head(15)"
   ]
  },
  {
   "cell_type": "code",
   "execution_count": 32,
   "metadata": {},
   "outputs": [],
   "source": [
    "import itertools\n",
    "import time\n",
    "\n",
    "def jaccard_sim(list1, list2):\n",
    "    intersection = len(list(set(list1).intersection(list2)))\n",
    "    union = (len(list1) + len(list2)) - intersection\n",
    "    return round(float(intersection) / union, 2)\n",
    "\n",
    "def numeric_sim(num1, num2, maxvalue,minvalue):\n",
    "    return 1- abs(num1-num2) / (maxvalue - minvalue)\n",
    "\n",
    "def nominal_sim(nom1,nom2):\n",
    "    return int(nom1 == nom2)\n",
    "\n",
    "   \n",
    "\n",
    "def pairwiseJaccard(cust, appendTo):\n",
    "    sim={}\n",
    "    print(\"Computing Jaccard similarities\")\n",
    "    start_time = time.time()\n",
    "    for pair in itertools.combinations(cust, r=2):\n",
    "        s=jaccard_sim(cust[pair[0]],cust[pair[1]])\n",
    "        appendTo[tuple([pair[0],pair[1]])] = [s]\n",
    "\n",
    "    end_time = time.time()\n",
    "    print(\"Jaccard Success after: \" ,end_time-start_time)\n",
    "    return appendTo\n",
    "\n",
    "def pairwiseNominal(cust, appendTo):\n",
    "    sim={}\n",
    "    print(\"Computing Nominal similarities\")\n",
    "    start_time = time.time()\n",
    "    for pair in itertools.combinations(cust, r=2):\n",
    "        s=nominal_sim(cust[pair[0]],cust[pair[1]])\n",
    "        dict(appendTo)[tuple([pair[0],pair[1]])].append(s)\n",
    "\n",
    "    end_time = time.time()\n",
    "    print(\"Nominal Success after: \" ,end_time-start_time)\n",
    "    return appendTo\n",
    "\n",
    "def pairwiseNumeric(cust, maxvalue,minvalue):\n",
    "    sim={}\n",
    "    print(\"Computing numeric similarities\")\n",
    "    start_time = time.time()\n",
    "    for pair in itertools.combinations(cust, r=2):\n",
    "        s=numeric_sim(cust[pair[0]],cust[pair[1]],maxvalue,minvalue)\n",
    "        #print(cust[pair[0]],cust[pair[1]],maxvalue,minvalue,\"=\", s,\"\\n\")\n",
    "        sim[tuple([pair[0],pair[1]])]=s\n",
    "    \n",
    "    end_time = time.time()\n",
    "    print(\"Numeric Success after: \" ,end_time-start_time)\n",
    "    return sim\n"
   ]
  },
  {
   "cell_type": "code",
   "execution_count": 33,
   "metadata": {
    "tags": [
     "outputPrepend",
     "outputPrepend",
     "outputPrepend",
     "outputPrepend",
     "outputPrepend",
     "outputPrepend",
     "outputPrepend",
     "outputPrepend",
     "outputPrepend",
     "outputPrepend",
     "outputPrepend",
     "outputPrepend",
     "outputPrepend",
     "outputPrepend",
     "outputPrepend",
     "outputPrepend",
     "outputPrepend",
     "outputPrepend",
     "outputPrepend",
     "outputPrepend",
     "outputPrepend",
     "outputPrepend",
     "outputPrepend",
     "outputPrepend",
     "outputPrepend",
     "outputPrepend",
     "outputPrepend",
     "outputPrepend",
     "outputPrepend",
     "outputPrepend",
     "outputPrepend",
     "outputPrepend",
     "outputPrepend",
     "outputPrepend",
     "outputPrepend",
     "outputPrepend",
     "outputPrepend",
     "outputPrepend",
     "outputPrepend",
     "outputPrepend",
     "outputPrepend",
     "outputPrepend",
     "outputPrepend",
     "outputPrepend",
     "outputPrepend",
     "outputPrepend",
     "outputPrepend",
     "outputPrepend",
     "outputPrepend",
     "outputPrepend",
     "outputPrepend",
     "outputPrepend",
     "outputPrepend",
     "outputPrepend",
     "outputPrepend",
     "outputPrepend",
     "outputPrepend",
     "outputPrepend",
     "outputPrepend",
     "outputPrepend",
     "outputPrepend",
     "outputPrepend",
     "outputPrepend",
     "outputPrepend",
     "outputPrepend",
     "outputPrepend",
     "outputPrepend",
     "outputPrepend",
     "outputPrepend",
     "outputPrepend",
     "outputPrepend",
     "outputPrepend",
     "outputPrepend",
     "outputPrepend",
     "outputPrepend",
     "outputPrepend",
     "outputPrepend",
     "outputPrepend",
     "outputPrepend",
     "outputPrepend",
     "outputPrepend",
     "outputPrepend",
     "outputPrepend",
     "outputPrepend",
     "outputPrepend",
     "outputPrepend",
     "outputPrepend",
     "outputPrepend",
     "outputPrepend",
     "outputPrepend",
     "outputPrepend",
     "outputPrepend",
     "outputPrepend",
     "outputPrepend",
     "outputPrepend",
     "outputPrepend",
     "outputPrepend",
     "outputPrepend",
     "outputPrepend",
     "outputPrepend",
     "outputPrepend",
     "outputPrepend",
     "outputPrepend",
     "outputPrepend",
     "outputPrepend",
     "outputPrepend",
     "outputPrepend",
     "outputPrepend",
     "outputPrepend",
     "outputPrepend",
     "outputPrepend",
     "outputPrepend",
     "outputPrepend",
     "outputPrepend",
     "outputPrepend",
     "outputPrepend",
     "outputPrepend",
     "outputPrepend",
     "outputPrepend",
     "outputPrepend",
     "outputPrepend",
     "outputPrepend",
     "outputPrepend",
     "outputPrepend"
    ]
   },
   "outputs": [],
   "source": [
    "#numeric\n",
    "age_d = dict(zip(df.Customer_ID, df.Age))\n",
    "persons_d = dict(zip(df.Customer_ID, df.Persons_in_Household))\n",
    "income_d = dict(zip(df.Customer_ID, df.Income))\n",
    "\n",
    "#nominal\n",
    "sex_d = dict(zip(df.Customer_ID, df.Sex))\n",
    "occupation_d = dict(zip(df.Customer_ID, df.Occupation))\n",
    "marital_d = dict(zip(df.Customer_ID, df.Marital_Status))\n",
    "\n",
    "#ordinal\n",
    "customer_rating_d = dict(zip(df.Customer_ID, df.Customer_Rating_enum))\n",
    "education_enum_d = dict(zip(df.Customer_ID, df.Education_enum))\n",
    "\n",
    "#set\n",
    "groceries_d = dict(zip(df.Customer_ID, df.Groceries))\n",
    "\n",
    "\n",
    "#helper test dictionaries\n",
    "#short_groceries_d = dict(list(groceries_d.items())[0:1000])\n",
    "#short_sex_d = dict(list(sex_d.items())[0:1000])\n",
    "#short_cust_rating = dict(list(customer_rating_d.items())[0:1000])\n",
    "#numeric\n",
    "dsize = 100\n",
    "\n",
    "age_d = dict(list(age_d.items())[0:dsize])\n",
    "persons_d = dict(list(persons_d.items())[0:dsize])\n",
    "income_d = dict(list(income_d.items())[0:dsize])\n",
    "\n",
    "sex_d = dict(list(sex_d.items())[0:dsize])\n",
    "occupation_d = dict(list(occupation_d.items())[0:dsize])\n",
    "marital_d = dict(list(marital_d.items())[0:dsize])\n",
    "\n",
    "customer_rating_d = dict(list(customer_rating_d.items())[0:dsize])\n",
    "education_enum_d = dict(list(education_enum_d.items())[0:dsize])\n",
    "groceries_d = dict(list(groceries_d.items())[0:dsize])\n",
    "\n",
    "\n"
   ]
  },
  {
   "cell_type": "code",
   "execution_count": 34,
   "metadata": {},
   "outputs": [
    {
     "output_type": "stream",
     "name": "stdout",
     "text": "Computing Jaccard similarities\nJaccard Success after:  0.008975744247436523\nComputing Nominal similarities\nNominal Success after:  0.5076956748962402\n"
    },
    {
     "output_type": "execute_result",
     "data": {
      "text/plain": "        (4, 95): [0.0, 1],\n             (4, 96): [0.0, 1],\n             (4, 97): [0.0, 0],\n             (4, 98): [0.0, 1],\n             (4, 99): [0.17, 1],\n             (4, 100): [0.0, 0],\n             (5, 6): [0.12, 0],\n             (5, 7): [0.0, 1],\n             (5, 8): [0.12, 0],\n             (5, 9): [0.0, 1],\n             (5, 10): [0.2, 1],\n             (5, 11): [0.12, 1],\n             (5, 12): [0.08, 1],\n             (5, 13): [0.0, 0],\n             (5, 14): [0.0, 1],\n             (5, 15): [0.0, 0],\n             (5, 16): [0.0, 1],\n             (5, 17): [0.0, 1],\n             (5, 18): [0.0, 1],\n             (5, 19): [0.0, 0],\n             (5, 20): [0.0, 1],\n             (5, 21): [0.25, 0],\n             (5, 22): [0.0, 1],\n             (5, 23): [0.25, 0],\n             (5, 24): [0.0, 0],\n             (5, 25): [0.07, 1],\n             (5, 26): [0.0, 0],\n             (5, 27): [0.0, 1],\n             (5, 28): [0.0, 0],\n             (5, 29): [0.25, 1],\n             (5, 30): [0.0, 1],\n             (5, 31): [0.0, 1],\n             (5, 32): [0.1, 0],\n             (5, 33): [0.29, 1],\n             (5, 34): [0.2, 1],\n             (5, 35): [0.0, 0],\n             (5, 36): [0.0, 1],\n             (5, 37): [0.0, 1],\n             (5, 38): [0.0, 1],\n             (5, 39): [0.33, 0],\n             (5, 40): [0.0, 1],\n             (5, 41): [0.0, 1],\n             (5, 42): [0.06, 0],\n             (5, 43): [0.0, 1],\n             (5, 44): [0.0, 1],\n             (5, 45): [0.0, 1],\n             (5, 46): [0.0, 1],\n             (5, 47): [0.0, 1],\n             (5, 48): [0.0, 0],\n             (5, 49): [0.0, 0],\n             (5, 50): [0.17, 0],\n             (5, 51): [0.0, 0],\n             (5, 52): [0.0, 1],\n             (5, 53): [0.33, 1],\n             (5, 54): [0.08, 0],\n             (5, 55): [0.12, 1],\n             (5, 56): [0.14, 0],\n             (5, 57): [0.0, 0],\n             (5, 58): [0.0, 1],\n             (5, 59): [0.0, 1],\n             (5, 60): [0.0, 1],\n             (5, 61): [0.22, 1],\n             (5, 62): [0.0, 1],\n             (5, 63): [0.17, 1],\n             (5, 64): [0.0, 1],\n             (5, 65): [0.0, 0],\n             (5, 66): [0.25, 1],\n             (5, 67): [0.0, 1],\n             (5, 68): [0.0, 0],\n             (5, 69): [0.17, 0],\n             (5, 70): [0.09, 0],\n             (5, 71): [0.0, 1],\n             (5, 72): [0.1, 1],\n             (5, 73): [0.09, 0],\n             (5, 74): [0.17, 1],\n             (5, 75): [0.0, 0],\n             (5, 76): [0.33, 0],\n             (5, 77): [0.12, 1],\n             (5, 78): [0.0, 1],\n             (5, 79): [0.0, 1],\n             (5, 80): [0.0, 1],\n             (5, 81): [0.0, 1],\n             (5, 82): [0.08, 1],\n             (5, 83): [0.0, 0],\n             (5, 84): [0.1, 1],\n             (5, 85): [0.0, 0],\n             (5, 86): [0.0, 0],\n             (5, 87): [0.0, 1],\n             (5, 88): [0.17, 1],\n             (5, 89): [0.0, 1],\n             (5, 90): [0.0, 0],\n             (5, 91): [0.0, 1],\n             (5, 92): [0.0, 1],\n             (5, 93): [0.0, 0],\n             (5, 94): [0.0, 0],\n             (5, 95): [0.0, 1],\n             (5, 96): [0.0, 1],\n             (5, 97): [0.0, 0],\n             (5, 98): [0.08, 1],\n             (5, 99): [0.17, 1],\n             (5, 100): [0.0, 0],\n             (6, 7): [0.0, 0],\n             (6, 8): [0.0, 1],\n             (6, 9): [0.0, 0],\n             (6, 10): [0.17, 0],\n             (6, 11): [0.0, 0],\n             (6, 12): [0.27, 0],\n             (6, 13): [0.0, 0],\n             (6, 14): [0.0, 0],\n             (6, 15): [0.0, 0],\n             (6, 16): [0.12, 0],\n             (6, 17): [0.0, 0],\n             (6, 18): [0.0, 0],\n             (6, 19): [0.0, 1],\n             (6, 20): [0.0, 0],\n             (6, 21): [0.0, 1],\n             (6, 22): [0.0, 0],\n             (6, 23): [0.2, 1],\n             (6, 24): [0.0, 1],\n             (6, 25): [0.0, 0],\n             (6, 26): [0.0, 1],\n             (6, 27): [0.2, 0],\n             (6, 28): [0.0, 1],\n             (6, 29): [0.0, 0],\n             (6, 30): [0.0, 0],\n             (6, 31): [0.12, 0],\n             (6, 32): [0.0, 0],\n             (6, 33): [0.11, 0],\n             (6, 34): [0.18, 0],\n             (6, 35): [0.0, 1],\n             (6, 36): [0.0, 0],\n             (6, 37): [0.0, 0],\n             (6, 38): [0.0, 0],\n             (6, 39): [0.12, 0],\n             (6, 40): [0.0, 0],\n             (6, 41): [0.0, 0],\n             (6, 42): [0.12, 1],\n             (6, 43): [0.17, 0],\n             (6, 44): [0.0, 0],\n             (6, 45): [0.08, 0],\n             (6, 46): [0.0, 0],\n             (6, 47): [0.0, 0],\n             (6, 48): [0.0, 0],\n             (6, 49): [0.0, 0],\n             (6, 50): [0.07, 0],\n             (6, 51): [0.0, 1],\n             (6, 52): [0.0, 0],\n             (6, 53): [0.12, 0],\n             (6, 54): [0.0, 1],\n             (6, 55): [0.25, 0],\n             (6, 56): [0.29, 0],\n             (6, 57): [0.0, 0],\n             (6, 58): [0.0, 0],\n             (6, 59): [0.0, 0],\n             (6, 60): [0.0, 0],\n             (6, 61): [0.09, 0],\n             (6, 62): [0.0, 0],\n             (6, 63): [0.14, 0],\n             (6, 64): [0.0, 0],\n             (6, 65): [0.0, 1],\n             (6, 66): [0.2, 0],\n             (6, 67): [0.0, 0],\n             (6, 68): [0.0, 1],\n             (6, 69): [0.14, 1],\n             (6, 70): [0.08, 1],\n             (6, 71): [0.0, 0],\n             (6, 72): [0.2, 0],\n             (6, 73): [0.08, 0],\n             (6, 74): [0.14, 0],\n             (6, 75): [0.0, 1],\n             (6, 76): [0.12, 1],\n             (6, 77): [0.11, 0],\n             (6, 78): [0.0, 0],\n             (6, 79): [0.0, 0],\n             (6, 80): [0.0, 0],\n             (6, 81): [0.0, 0],\n             (6, 82): [0.07, 0],\n             (6, 83): [0.0, 1],\n             (6, 84): [0.0, 0],\n             (6, 85): [0.0, 1],\n             (6, 86): [0.09, 0],\n             (6, 87): [0.0, 0],\n             (6, 88): [0.0, 0],\n             (6, 89): [0.17, 0],\n             (6, 90): [0.0, 0],\n             (6, 91): [0.0, 0],\n             (6, 92): [0.0, 0],\n             (6, 93): [0.12, 1],\n             (6, 94): [0.08, 1],\n             (6, 95): [0.0, 0],\n             (6, 96): [0.0, 0],\n             (6, 97): [0.0, 0],\n             (6, 98): [0.07, 0],\n             (6, 99): [0.33, 0],\n             (6, 100): [0.0, 0],\n             (7, 8): [0.2, 0],\n             (7, 9): [0.0, 1],\n             (7, 10): [0.0, 1],\n             (7, 11): [0.0, 1],\n             (7, 12): [0.0, 1],\n             (7, 13): [0.0, 0],\n             (7, 14): [0.33, 1],\n             (7, 15): [0.0, 0],\n             (7, 16): [0.0, 1],\n             (7, 17): [0.0, 1],\n             (7, 18): [0.0, 1],\n             (7, 19): [0.0, 0],\n             (7, 20): [0.0, 1],\n             (7, 21): [0.0, 0],\n             (7, 22): [0.0, 1],\n             (7, 23): [0.0, 0],\n             (7, 24): [0.0, 0],\n             (7, 25): [0.09, 1],\n             (7, 26): [0.0, 0],\n             (7, 27): [0.0, 1],\n             (7, 28): [0.25, 0],\n             (7, 29): [0.0, 1],\n             (7, 30): [0.0, 1],\n             (7, 31): [0.0, 1],\n             (7, 32): [0.14, 0],\n             (7, 33): [0.0, 1],\n             (7, 34): [0.0, 1],\n             (7, 35): [0.0, 0],\n             (7, 36): [0.0, 1],\n             (7, 37): [0.0, 1],\n             (7, 38): [0.0, 1],\n             (7, 39): [0.0, 0],\n             (7, 40): [0.0, 1],\n             (7, 41): [0.17, 1],\n             (7, 42): [0.0, 0],\n             (7, 43): [0.0, 1],\n             (7, 44): [0.0, 1],\n             (7, 45): [0.12, 1],\n             (7, 46): [0.0, 1],\n             (7, 47): [0.0, 1],\n             (7, 48): [1.0, 0],\n             (7, 49): [0.0, 0],\n             (7, 50): [0.1, 0],\n             (7, 51): [0.25, 0],\n             (7, 52): [0.0, 1],\n             (7, 53): [0.0, 1],\n             (7, 54): [0.0, 0],\n             (7, 55): [0.0, 1],\n             (7, 56): [0.0, 0],\n             (7, 57): [0.0, 0],\n             (7, 58): [0.14, 1],\n             (7, 59): [0.17, 1],\n             (7, 60): [0.33, 1],\n             (7, 61): [0.0, 1],\n             (7, 62): [0.0, 1],\n             (7, 63): [0.0, 1],\n             (7, 64): [0.2, 1],\n             (7, 65): [0.33, 0],\n             (7, 66): [0.0, 1],\n             (7, 67): [0.0, 1],\n             (7, 68): [0.0, 0],\n             (7, 69): [0.0, 0],\n             (7, 70): [0.12, 0],\n             (7, 71): [0.0, 1],\n             (7, 72): [0.0, 1],\n             (7, 73): [0.0, 0],\n             (7, 74): [0.0, 1],\n             (7, 75): [0.0, 0],\n             (7, 76): [0.25, 0],\n             (7, 77): [0.0, 1],\n             (7, 78): [0.0, 1],\n             (7, 79): [0.0, 1],\n             (7, 80): [0.0, 1],\n             (7, 81): [0.0, 1],\n             (7, 82): [0.1, 1],\n             (7, 83): [0.0, 0],\n             (7, 84): [0.0, 1],\n             (7, 85): [0.0, 0],\n             (7, 86): [0.14, 0],\n             (7, 87): [0.0, 1],\n             (7, 88): [0.0, 1],\n             (7, 89): [0.0, 1],\n             (7, 90): [0.0, 0],\n             (7, 91): [0.0, 1],\n             (7, 92): [0.0, 1],\n             (7, 93): [0.0, 0],\n             (7, 94): [0.0, 0],\n             (7, 95): [0.0, 1],\n             (7, 96): [0.0, 1],\n             (7, 97): [0.11, 0],\n             (7, 98): [0.0, 1],\n             (7, 99): [0.0, 1],\n             (7, 100): [0.0, 0],\n             (8, 9): [0.0, 0],\n             (8, 10): [0.0, 0],\n             (8, 11): [0.11, 0],\n             (8, 12): [0.0, 0],\n             (8, 13): [0.0, 0],\n             (8, 14): [0.14, 0],\n             (8, 15): [0.0, 0],\n             (8, 16): [0.0, 0],\n             (8, 17): [0.0, 0],\n             (8, 18): [0.0, 0],\n             (8, 19): [0.0, 1],\n             (8, 20): [0.0, 0],\n             (8, 21): [0.2, 1],\n             (8, 22): [0.0, 0],\n             (8, 23): [0.0, 1],\n             (8, 24): [0.0, 1],\n             (8, 25): [0.14, 0],\n             (8, 26): [0.0, 1],\n             (8, 27): [0.0, 0],\n             (8, 28): [0.12, 1],\n             (8, 29): [0.2, 0],\n             (8, 30): [0.0, 0],\n             (8, 31): [0.0, 0],\n             (8, 32): [0.2, 0],\n             (8, 33): [0.11, 0],\n             (8, 34): [0.08, 0],\n             (8, 35): [0.0, 1],\n             (8, 36): [0.0, 0],\n             (8, 37): [0.0, 0],\n             (8, 38): [0.0, 0],\n             (8, 39): [0.12, 0],\n             (8, 40): [0.0, 0],\n             (8, 41): [0.1, 0],\n             (8, 42): [0.0, 1],\n             (8, 43): [0.0, 0],\n             (8, 44): [0.0, 0],\n             (8, 45): [0.08, 0],\n             (8, 46): [0.0, 0],\n             (8, 47): [0.0, 0],\n             (8, 48): [0.2, 0],\n             (8, 49): [0.0, 0],\n             (8, 50): [0.25, 0],\n             (8, 51): [0.12, 1],\n             (8, 52): [0.0, 0],\n             (8, 53): [0.12, 0],\n             (8, 54): [0.07, 1],\n             (8, 55): [0.0, 0],\n             (8, 56): [0.0, 0],\n             (8, 57): [0.0, 0],\n             (8, 58): [0.09, 0],\n             (8, 59): [0.1, 0],\n             (8, 60): [0.14, 0],\n             (8, 61): [0.09, 0],\n             (8, 62): [0.0, 0],\n             (8, 63): [0.0, 0],\n             (8, 64): [0.11, 0],\n             (8, 65): [0.14, 1],\n             (8, 66): [0.0, 0],\n             (8, 67): [0.0, 0],\n             (8, 68): [0.0, 1],\n             (8, 69): [0.0, 1],\n             (8, 70): [0.08, 1],\n             (8, 71): [0.0, 0],\n             (8, 72): [0.0, 0],\n             (8, 73): [0.0, 0],\n             (8, 74): [0.0, 0],\n             (8, 75): [0.0, 1],\n             (8, 76): [0.29, 1],\n             (8, 77): [0.0, 0],\n             (8, 78): [0.11, 0],\n             (8, 79): [0.12, 0],\n             (8, 80): [0.0, 0],\n             (8, 81): [0.0, 0],\n             (8, 82): [0.07, 0],\n             (8, 83): [0.0, 1],\n             (8, 84): [0.0, 0],\n             (8, 85): [0.0, 1],\n             (8, 86): [0.09, 0],\n             (8, 87): [0.0, 0],\n             (8, 88): [0.14, 0],\n             (8, 89): [0.0, 0],\n             (8, 90): [0.0, 0],\n             (8, 91): [0.0, 0],\n             (8, 92): [0.0, 0],\n             (8, 93): [0.0, 1],\n             (8, 94): [0.0, 1],\n             (8, 95): [0.0, 0],\n             (8, 96): [0.0, 0],\n             (8, 97): [0.08, 0],\n             (8, 98): [0.07, 0],\n             (8, 99): [0.0, 0],\n             (8, 100): [0.0, 0],\n             (9, 10): [0.0, 1],\n             (9, 11): [0.0, 1],\n             (9, 12): [0.0, 1],\n             (9, 13): [0.0, 0],\n             (9, 14): [0.0, 1],\n             (9, 15): [0.0, 0],\n             (9, 16): [0.0, 1],\n             (9, 17): [0.0, 1],\n             (9, 18): [0.0, 1],\n             (9, 19): [0.0, 0],\n             (9, 20): [0.0, 1],\n             (9, 21): [0.0, 0],\n             (9, 22): [0.0, 1],\n             (9, 23): [0.0, 0],\n             (9, 24): [0.0, 0],\n             (9, 25): [0.0, 1],\n             (9, 26): [0.0, 0],\n             (9, 27): [0.0, 1],\n             (9, 28): [0.0, 0],\n             (9, 29): [0.0, 1],\n             (9, 30): [0.0, 1],\n             (9, 31): [0.0, 1],\n             (9, 32): [0.0, 0],\n             (9, 33): [0.0, 1],\n             (9, 34): [0.0, 1],\n             (9, 35): [0.0, 0],\n             (9, 36): [0.0, 1],\n             (9, 37): [0.0, 1],\n             (9, 38): [0.0, 1],\n             (9, 39): [0.0, 0],\n             (9, 40): [0.0, 1],\n             (9, 41): [0.0, 1],\n             (9, 42): [0.0, 0],\n             (9, 43): [0.0, 1],\n             (9, 44): [0.0, 1],\n             (9, 45): [0.0, 1],\n             (9, 46): [0.0, 1],\n             (9, 47): [0.0, 1],\n             (9, 48): [0.0, 0],\n             (9, 49): [0.0, 0],\n             (9, 50): [0.0, 0],\n             (9, 51): [0.0, 0],\n             (9, 52): [0.0, 1],\n             (9, 53): [0.0, 1],\n             (9, 54): [0.0, 0],\n             (9, 55): [0.0, 1],\n             (9, 56): [0.0, 0],\n             (9, 57): [0.0, 0],\n             (9, 58): [0.0, 1],\n             (9, 59): [0.0, 1],\n             (9, 60): [0.0, 1],\n             (9, 61): [0.0, 1],\n             (9, 62): [0.0, 1],\n             (9, 63): [0.0, 1],\n             (9, 64): [0.0, 1],\n             (9, 65): [0.0, 0],\n             (9, 66): [0.0, 1],\n             (9, 67): [0.0, 1],\n             (9, 68): [0.0, 0],\n             (9, 69): [0.0, 0],\n             (9, 70): [0.0, 0],\n             (9, 71): [0.0, 1],\n             (9, 72): [0.0, 1],\n             (9, 73): [0.0, 0],\n             (9, 74): [0.0, 1],\n             (9, 75): [0.0, 0],\n             (9, 76): [0.0, 0],\n             (9, 77): [0.0, 1],\n             (9, 78): [0.0, 1],\n             (9, 79): [0.0, 1],\n             (9, 80): [0.0, 1],\n             (9, 81): [0.0, 1],\n             (9, 82): [0.0, 1],\n             (9, 83): [0.0, 0],\n             (9, 84): [0.0, 1],\n             (9, 85): [0.0, 0],\n             (9, 86): [0.0, 0],\n             (9, 87): [0.0, 1],\n             (9, 88): [0.0, 1],\n             (9, 89): [0.0, 1],\n             (9, 90): [0.0, 0],\n             (9, 91): [0.0, 1],\n             (9, 92): [0.0, 1],\n             (9, 93): [0.0, 0],\n             (9, 94): [0.0, 0],\n             (9, 95): [0.0, 1],\n             (9, 96): [0.0, 1],\n             (9, 97): [0.0, 0],\n             (9, 98): [0.0, 1],\n             (9, 99): [0.0, 1],\n             (9, 100): [0.0, 0],\n             (10, 11): [0.0, 1],\n             (10, 12): [0.1, 1],\n             (10, 13): [0.0, 0],\n             (10, 14): [0.0, 1],\n             (10, 15): [0.0, 0],\n             (10, 16): [0.0, 1],\n             (10, 17): [0.0, 1],\n             (10, 18): [0.0, 1],\n             (10, 19): [0.0, 0],\n             (10, 20): [0.0, 1],\n             (10, 21): [0.0, 0],\n             (10, 22): [0.0, 1],\n             (10, 23): [0.5, 0],\n             (10, 24): [0.0, 0],\n             (10, 25): [0.0, 1],\n             (10, 26): [0.0, 0],\n             (10, 27): [0.0, 1],\n             (10, 28): [0.0, 0],\n             (10, 29): [0.0, 1],\n             (10, 30): [0.0, 1],\n             (10, 31): [0.0, 1],\n             (10, 32): [0.0, 0],\n             (10, 33): [0.17, 1],\n             (10, 34): [0.11, 1],\n             (10, 35): [0.0, 0],\n             (10, 36): [0.0, 1],\n             (10, 37): [0.0, 1],\n             (10, 38): [0.0, 1],\n             (10, 39): [0.2, 0],\n             (10, 40): [0.0, 1],\n             (10, 41): [0.0, 1],\n             (10, 42): [0.15, 0],\n             (10, 43): [0.0, 1],\n             (10, 44): [0.0, 1],\n             (10, 45): [0.0, 1],\n             (10, 46): [0.0, 1],\n             (10, 47): [0.0, 1],\n             (10, 48): [0.0, 0],\n             (10, 49): [0.0, 0],\n             (10, 50): [0.0, 0],\n             (10, 51): [0.0, 0],\n             (10, 52): [0.0, 1],\n             (10, 53): [0.2, 1],\n             (10, 54): [0.0, 0],\n             (10, 55): [0.17, 1],\n             (10, 56): [0.2, 0],\n             (10, 57): [0.0, 0],\n             (10, 58): [0.0, 1],\n             (10, 59): [0.0, 1],\n             (10, 60): [0.0, 1],\n             (10, 61): [0.12, 1],\n             (10, 62): [0.0, 1],\n             (10, 63): [0.25, 1],\n             (10, 64): [0.0, 1],\n             (10, 65): [0.0, 0],\n             (10, 66): [0.5, 1],\n             (10, 67): [0.0, 1],\n             (10, 68): [0.0, 0],\n             (10, 69): [0.25, 0],\n             (10, 70): [0.11, 0],\n             (10, 71): [0.0, 1],\n             (10, 72): [0.12, 1],\n             (10, 73): [0.11, 0],\n             (10, 74): [0.25, 1],\n             (10, 75): [0.0, 0],\n             (10, 76): [0.2, 0],\n             (10, 77): [0.17, 1],\n             (10, 78): [0.0, 1],\n             (10, 79): [0.0, 1],\n             (10, 80): [0.0, 1],\n             (10, 81): [0.0, 1],\n             (10, 82): [0.09, 1],\n             (10, 83): [0.0, 0],\n             (10, 84): [0.0, 1],\n             (10, 85): [0.0, 0],\n             (10, 86): [0.0, 0],\n             (10, 87): [0.0, 1],\n             (10, 88): [0.0, 1],\n             (10, 89): [0.0, 1],\n             (10, 90): [0.0, 0],\n             (10, 91): [0.0, 1],\n             (10, 92): [0.0, 1],\n             (10, 93): [0.0, 0],\n             (10, 94): [0.0, 0],\n             (10, 95): [0.0, 1],\n             (10, 96): [0.0, 1],\n             (10, 97): [0.0, 0],\n             (10, 98): [0.0, 1],\n             (10, 99): [0.25, 1],\n             (10, 100): [0.0, 0],\n             (11, 12): [0.17, 1],\n             (11, 13): [0.0, 0],\n             (11, 14): [0.0, 1],\n             (11, 15): [0.17, 0],\n             (11, 16): [0.0, 1],\n             (11, 17): [0.0, 1],\n             (11, 18): [0.0, 1],\n             (11, 19): [0.2, 0],\n             (11, 20): [0.0, 1],\n             (11, 21): [0.2, 0],\n             (11, 22): [0.0, 1],\n             (11, 23): [0.0, 0],\n             (11, 24): [0.11, 0],\n             (11, 25): [0.14, 1],\n             (11, 26): [0.17, 0],\n             (11, 27): [0.0, 1],\n             (11, 28): [0.12, 0],\n             (11, 29): [0.2, 1],\n             (11, 30): [0.0, 1],\n             (11, 31): [0.12, 1],\n             (11, 32): [0.2, 0],\n             (11, 33): [0.11, 1],\n             (11, 34): [0.08, 1],\n             (11, 35): [0.0, 0],\n             (11, 36): [0.0, 1],\n             (11, 37): [0.0, 1],\n             (11, 38): [0.0, 1],\n             (11, 39): [0.12, 0],\n             (11, 40): [0.0, 1],\n             (11, 41): [0.0, 1],\n             (11, 42): [0.06, 0],\n             (11, 43): [0.0, 1],\n             (11, 44): [0.0, 1],\n             (11, 45): [0.08, 1],\n             (11, 46): [0.0, 1],\n             (11, 47): [0.17, 1],\n             (11, 48): [0.0, 0],\n             (11, 49): [0.0, 0],\n             (11, 50): [0.15, 0],\n             (11, 51): [0.0, 0],\n             (11, 52): [0.0, 1],\n             (11, 53): [0.12, 1],\n             (11, 54): [0.15, 0],\n             (11, 55): [0.0, 1],\n             (11, 56): [0.0, 0],\n             (11, 57): [0.0, 0],\n             (11, 58): [0.09, 1],\n             (11, 59): [0.0, 1],\n             (11, 60): [0.0, 1],\n             (11, 61): [0.09, 1],\n             (11, 62): [0.0, 1],\n             (11, 63): [0.0, 1],\n             (11, 64): [0.11, 1],\n             (11, 65): [0.0, 0],\n             (11, 66): [0.0, 1],\n             ...})"
     },
     "metadata": {},
     "execution_count": 34
    }
   ],
   "source": [
    "###Calculate Similarities\n",
    "\n",
    "#numeric\n",
    "#simAge = pairwiseNumeric(age_d, df.Age.max(),df.Age.min())\n",
    "#simHouseholdPersons = pairwiseNumeric(persons_d,df.Persons_in_Household.max(),df.Persons_in_Household.min())\n",
    "#simIncome = pairwiseNumeric(income_d,df.Income.max(),df.Income.min())\n",
    "\n",
    "#nominal\n",
    "#simSex = pairwiseNominal(sex_d)\n",
    "#simOccupation = pairwiseNominal(occupation_d)\n",
    "#simMaritalStatus = pairwiseNominal(marital_d)\n",
    "\n",
    "\n",
    "#ordinal\n",
    "#simCustomerRating = pairwiseNumeric(customer_rating_d,df.Customer_Rating_enum.max(), df.Customer_Rating_enum.min())\n",
    "#simEducation = pairwiseNumeric(education_enum_d,df.Education_enum.max(), df.Education_enum.min())\n",
    "\n",
    "#set\n",
    "from collections import defaultdict\n",
    "dictSim = defaultdict(list)\n",
    "simGroceries = pairwiseJaccard(groceries_d, dictSim)\n",
    "simMaritalStatus = pairwiseNominal(marital_d, dictSim)\n",
    "\n",
    "dictSim\n",
    "\n",
    "\n"
   ]
  },
  {
   "cell_type": "code",
   "execution_count": 35,
   "metadata": {
    "tags": [
     "outputPrepend",
     "outputPrepend",
     "outputPrepend",
     "outputPrepend"
    ]
   },
   "outputs": [],
   "source": [
    "import operator\n",
    "\n",
    "def GetSimilarCustomers(customerID,head,sim):\n",
    "    filtered_dict = {k:v for (k,v) in sim.items() if customerID in k}\n",
    "    sorted_d = dict(sorted(filtered_dict.items(), key=operator.itemgetter(1),reverse=True))\n",
    "    return dict(list(sorted_d.items())[0:head])\n",
    "\n",
    "\n",
    "def GetDictionaryWithAvgSimilarity(listSim):\n",
    "    d0=listSim[0]\n",
    "    i=1;\n",
    "    while i < len(listSim) :\n",
    "        for k, value in d0.items():\n",
    "            d0[k] = float((d0[k] + listSim[i][k]) / 2)\n",
    "\n",
    "        i+=1\n",
    "    return d0\n",
    "\n"
   ]
  },
  {
   "cell_type": "code",
   "execution_count": 36,
   "metadata": {
    "tags": [
     "outputPrepend"
    ]
   },
   "outputs": [
    {
     "output_type": "error",
     "ename": "NameError",
     "evalue": "name 'simAge' is not defined",
     "traceback": [
      "\u001b[1;31m---------------------------------------------------------------------------\u001b[0m",
      "\u001b[1;31mNameError\u001b[0m                                 Traceback (most recent call last)",
      "\u001b[1;32m<ipython-input-36-f7dd4e3f11b6>\u001b[0m in \u001b[0;36m<module>\u001b[1;34m\u001b[0m\n\u001b[0;32m      1\u001b[0m \u001b[1;31m#SimilarityList = [simGroceries, simSex]\u001b[0m\u001b[1;33m\u001b[0m\u001b[1;33m\u001b[0m\u001b[1;33m\u001b[0m\u001b[0m\n\u001b[0;32m      2\u001b[0m \u001b[1;33m\u001b[0m\u001b[0m\n\u001b[1;32m----> 3\u001b[1;33m \u001b[0mSimilarityList\u001b[0m \u001b[1;33m=\u001b[0m \u001b[1;33m[\u001b[0m\u001b[0msimAge\u001b[0m\u001b[1;33m,\u001b[0m\u001b[0msimHouseholdPersons\u001b[0m\u001b[1;33m,\u001b[0m\u001b[0msimIncome\u001b[0m\u001b[1;33m,\u001b[0m \u001b[0msimMaritalStatus\u001b[0m\u001b[1;33m,\u001b[0m \u001b[0msimGroceries\u001b[0m\u001b[1;33m,\u001b[0m \u001b[0msimSex\u001b[0m\u001b[1;33m,\u001b[0m\u001b[0msimOccupation\u001b[0m\u001b[1;33m,\u001b[0m \u001b[0msimCustomerRating\u001b[0m\u001b[1;33m,\u001b[0m \u001b[0msimEducation\u001b[0m\u001b[1;33m]\u001b[0m\u001b[1;33m\u001b[0m\u001b[1;33m\u001b[0m\u001b[0m\n\u001b[0m\u001b[0;32m      4\u001b[0m \u001b[1;33m\u001b[0m\u001b[0m\n\u001b[0;32m      5\u001b[0m \u001b[1;33m\u001b[0m\u001b[0m\n",
      "\u001b[1;31mNameError\u001b[0m: name 'simAge' is not defined"
     ]
    }
   ],
   "source": [
    "\n",
    "\n",
    "#SimilarityList = [simGroceries, simSex]\n",
    "\n",
    "SimilarityList = [simAge,simHouseholdPersons,simIncome, simMaritalStatus, simGroceries, simSex,simOccupation, simCustomerRating, simEducation]\n",
    "\n",
    "\n",
    "\n",
    "avgSim =  GetDictionaryWithAvgSimilarity(SimilarityList)\n",
    "\n",
    "customerids = [73]\n",
    "for i in customerids: \n",
    "    print(GetSimilarCustomers(i,10,avgSim))\n",
    "    print(\"----\\n\")\n",
    "\n",
    "\n",
    "#73, 563, 1603, 2200, 3703, 4263, 5300, 6129, 7800, 8555\n",
    "\n",
    "  \n",
    "# printing final result \n",
    "\n",
    "\n",
    "\n"
   ]
  },
  {
   "cell_type": "code",
   "execution_count": null,
   "metadata": {},
   "outputs": [],
   "source": []
  }
 ],
 "metadata": {
  "language_info": {
   "codemirror_mode": {
    "name": "ipython",
    "version": 3
   },
   "file_extension": ".py",
   "mimetype": "text/x-python",
   "name": "python",
   "nbconvert_exporter": "python",
   "pygments_lexer": "ipython3",
   "version": "3.8.2-final"
  },
  "orig_nbformat": 2,
  "kernelspec": {
   "name": "python3",
   "display_name": "Python 3"
  }
 },
 "nbformat": 4,
 "nbformat_minor": 2
}